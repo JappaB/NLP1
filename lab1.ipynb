{
 "cells": [
  {
   "cell_type": "code",
   "execution_count": 114,
   "metadata": {},
   "outputs": [],
   "source": [
    "%matplotlib inline\n",
    "import matplotlib\n",
    "import numpy as np\n",
    "import matplotlib.pyplot as plt"
   ]
  },
  {
   "cell_type": "markdown",
   "metadata": {},
   "source": [
    "# Lab 1: Text Corpora and Language Modelling\n",
    "\n",
    "This lab is meant to help you get familiar with some language data, and use this data to estimate N-gram language models\n",
    "\n",
    "First you will use the **Penn Treebank**, which is a collection of newspaper articles from the newspaper \n",
    "The Wall Street Journal. The idea is to examine the data and notice interesting properties. This will not take more than a few lines of code.\n",
    "\n",
    "Then you will use a corpus consisting of **TedX** talks. This you will use to estimate an **N-gram language model** for different orders of N, and use this this for some tasks.\n",
    "\n",
    "The datasets are on blackboard under course materials. Download the zip and make sure to put the files in the same directory as the notebook.\n",
    "\n",
    "### Rules\n",
    "* The lab exercises should be made in **groups of two people**.\n",
    "\n",
    "* The deadline is **Tuesday 7 nov 16:59**.\n",
    "\n",
    "* The assignment should submitted to **Blackboard** as `.ipynb`. Only **one submission per group**.\n",
    "\n",
    "* The **filename** should be `lab1_lastname1_lastname2.ipynb`, so for example `lab1_Jurafsky_Martin.ipynb`.\n",
    "\n",
    "* The notebook is graded on a scale of **0-10**. The number of points for each question is indicated in parantheses. \n",
    "\n",
    "* The questions marked **optional** are not graded; they are an additional challenge for those interested in going the extra mile. \n",
    "\n",
    "Notes on implementation:\n",
    "\n",
    "* You should **write your code and answers in this iPython Notebook** (see http://ipython.org/notebook.html for reference material). If you have problems, please contact your teaching assistant.\n",
    "\n",
    "* Use only **one cell for code** and **one cell for markdown** answers!    \n",
    "\n",
    "    * Put all code in the cell with the `# YOUR CODE HERE` comment.\n",
    "    \n",
    "    * For theoretical question, put your solution in the YOUR ANSWER HERE cell.\n",
    "    \n",
    "* Test your code and **make sure we can run your notebook**"
   ]
  },
  {
   "cell_type": "markdown",
   "metadata": {},
   "source": [
    "# 1. Penn treebank\n",
    "\n",
    "## Exercise 1.1 (40 points, 5 points per subquestion )\n",
    "\n",
    "You are provided with a corpus containing words with their Part-of-Speech tags (POS-tags for short). The format is\n",
    "**word|POS** (one sentence per line) and the file name is **sec02-22.gold.tagged**. This data is extracted from Sections 02-22 from the Penn Treebank: these sections are most commonly used for training statistical models like POS-taggers and parsers.\n",
    "\n",
    "**[Hint]** **Figure 10.1** in chapter 10 of Jurafsky and Martin (see [here](https://web.stanford.edu/~jurafsky/slp3/10.pdf)) holds a summary of the 45 POS-tags used in the Penn Treebank tagset together with their meaning and some examples. (If you are keen on learning more about the word-classes represented POS-tags and their definitions you can do a litle reading ahead for next week and already have a look at section 10.1 of the same chapter).\n",
    "\n",
    "**[Hint]** the Python library [collections](https://docs.python.org/2/library/collections.html) has an object called `Counter` which will come in handy for this exercise."
   ]
  },
  {
   "cell_type": "markdown",
   "metadata": {},
   "source": [
    " "
   ]
  },
  {
   "cell_type": "markdown",
   "metadata": {},
   "source": [
    "**(a)** How large is the corpus? (i.e. how **many tokens**). And what is the size of the **vocabulary** used in this corpus? \n",
    "\n",
    "Estimate the vocabulary size both by **lowercasing** all the words as well as by leaving the words in their **original orthography**. What is an advantage of lowercasing all the words in your corpus? What is a notable downside? **Give examples.**"
   ]
  },
  {
   "cell_type": "code",
   "execution_count": 115,
   "metadata": {},
   "outputs": [
    {
     "name": "stdout",
     "output_type": "stream",
     "text": [
      "Number of tokens\n",
      "Original: 929552\n",
      "Lowercase: 929552\n",
      "\n",
      "Number of word types\n",
      "Original: 44210\n",
      "Lowercase: 39384\n"
     ]
    }
   ],
   "source": [
    "import os\n",
    "import string\n",
    "from collections import Counter, defaultdict, OrderedDict, deque\n",
    "\n",
    "path = os.path.join(\"data\",\"sec02-21.gold.tagged\")\n",
    "f = open(path,\"r\")\n",
    "\n",
    "counter_orig = Counter()\n",
    "counter_lower = Counter()\n",
    "counter_pos = Counter()\n",
    "counter_wordPOS = Counter()\n",
    "\n",
    "count_diff = 0\n",
    "\n",
    "for line in f:\n",
    "    parts = line.strip().split(\" \")\n",
    "    \n",
    "    for part in parts:\n",
    "        \n",
    "        # Word|pos combinations\n",
    "        counter_wordPOS[part] += 1            \n",
    "        token, pos = part.split(\"|\", 1)\n",
    "        \n",
    "        counter_pos[pos] += 1\n",
    "        \n",
    "        # Ignore punctuation\n",
    "#         if token in string.punctuation:\n",
    "#             continue\n",
    "        \n",
    "        # count original tokens\n",
    "        counter_orig[token]+=1\n",
    "\n",
    "        # count lowercased tokens\n",
    "        counter_lower[token.lower()] += 1\n",
    "f.close()\n",
    "print(\"Number of tokens\")\n",
    "print(\"Original:\", sum(counter_orig.values()))\n",
    "print(\"Lowercase:\", sum(counter_lower.values()))\n",
    "print()\n",
    "print(\"Number of word types\")\n",
    "print(\"Original:\", len(list(counter_orig)))\n",
    "print(\"Lowercase:\", len(list(counter_lower)))"
   ]
  },
  {
   "cell_type": "markdown",
   "metadata": {},
   "source": [
    "#### Number of tokens\n",
    "\n",
    "Original: 929552\n",
    "\n",
    "Lowercase: 929552\n",
    "\n",
    "#### Number of word types\n",
    "\n",
    "Original: 44210\n",
    "\n",
    "Lowercase: 39384\n",
    "\n",
    "#### Explanation\n",
    "\n",
    "The advantage of lowercasing all the tokens is that you no longer count words at the beginning of a sentence as seperate words. But, by doing this you also lose lowercase given names and places and risk pooling them with the regular words.\n",
    "\n",
    "An example of the advantage:\n",
    "\"This morning I drank this cup of coffee.\" has a count of 1 for \"This\" and of 1 for \"this\". We would like to add these two together, as they are the same word.\n",
    "\n",
    "Disadvantage:\n",
    "In the sentence \"In college, George Bush peed in a bush.\" \"Bush\" and \"bush\" will be grouped together."
   ]
  },
  {
   "cell_type": "markdown",
   "metadata": {},
   "source": [
    "------\n",
    "For the rest of this exercise you should use the **original orthography** of the data when answering the questions.\n",
    "\n",
    "------\n"
   ]
  },
  {
   "cell_type": "markdown",
   "metadata": {},
   "source": [
    "**(b)** Plot a graph of word frequency versus rank of a word, in this corpus. Does this corpus obey **Zipf’s law**?"
   ]
  },
  {
   "cell_type": "code",
   "execution_count": 116,
   "metadata": {
    "scrolled": true
   },
   "outputs": [
    {
     "data": {
      "image/png": "[encoded data removed]",
      "text/plain": [
       "<matplotlib.figure.Figure at 0x123ebdc88>"
      ]
     },
     "metadata": {},
     "output_type": "display_data"
    },
    {
     "data": {
      "image/png": "[encoded data removed]",
      "text/plain": [
       "<matplotlib.figure.Figure at 0x12400cf28>"
      ]
     },
     "metadata": {},
     "output_type": "display_data"
    }
   ],
   "source": [
    "#TODO: Volgens mij zijn de assen van de log scale nog niet goed (moet nog tot de macht x bij)\n",
    "#\n",
    "#\n",
    "#\n",
    "\n",
    "frequencies = sorted(counter_orig.values(), reverse=True)\n",
    "ranks = range(1, len(frequencies) + 1)\n",
    "\n",
    "# Plot rank to frequency\n",
    "fig1, ax1 = plt.subplots()\n",
    "ax1.plot(ranks, frequencies, '.')\n",
    "ax1.set_title(\"Normal scale\")\n",
    "\n",
    "# Plot the same in log-scale\n",
    "fig2, ax2 = plt.subplots()\n",
    "ax2.plot(np.log(ranks), np.log(frequencies), '.')\n",
    "ax2.set_title(\"Log scale\")\n",
    "\n",
    "# Label axis\n",
    "for ax in [ax1, ax2]:\n",
    "    ax.set_xlabel(\"Rank\")\n",
    "    ax.set_ylabel(\"Frequency\")"
   ]
  },
  {
   "cell_type": "code",
   "execution_count": 117,
   "metadata": {},
   "outputs": [
    {
     "name": "stdout",
     "output_type": "stream",
     "text": [
      "10.7853938575\n",
      "11.6001026615\n",
      "11.5332279673\n",
      "11.4406880499\n",
      "11.3388220466\n",
      "11.2899818937\n",
      "11.1845880508\n",
      "11.156393368\n",
      "11.0667633545\n",
      "11.0510011103\n",
      "11.0021998362\n",
      "10.9151793692\n",
      "10.7790396198\n",
      "10.8590759177\n",
      "10.9331783957\n",
      "10.7144844332\n",
      "10.7790187879\n",
      "10.8396397335\n",
      "10.4913297715\n",
      "10.5453940689\n",
      "10.5966847318\n",
      "10.6454725152\n",
      "10.6919903664\n",
      "10.7364401528\n",
      "10.0858507751\n",
      "10.1266711031\n",
      "10.1658902778\n",
      "10.2036291813\n",
      "10.2399955028\n",
      "10.2750855911\n",
      "10.3089859934\n",
      "10.341774741\n",
      "10.3735224313\n",
      "10.404293143\n",
      "10.4341452149\n",
      "10.4631319115\n",
      "10.4913019948\n",
      "10.5187002183\n",
      "10.5453677542\n",
      "10.5713425658\n",
      "10.5966597328\n",
      "10.6213517356\n",
      "10.6454487065\n",
      "10.6689786502\n",
      "10.6919676399\n"
     ]
    }
   ],
   "source": [
    "# Check for zipf's law f*r=k\n",
    "for i in range(0, len(frequencies), 1000):\n",
    "    print(np.log(ranks[i]) + np.log(frequencies[i]))"
   ]
  },
  {
   "cell_type": "markdown",
   "metadata": {},
   "source": [
    "It looks like the corpus obeys Zipf's law. As you can see in the plots, the top ranked word types occur extremely more often than most of the others. This result can be summarized by `log(rank) + log(frequency) ~= constant`. You can see from the sample above that this is indeed the case for this corpus. \n",
    "\n",
    "So, yes. This corpus obeys Zipf's law."
   ]
  },
  {
   "cell_type": "markdown",
   "metadata": {},
   "source": [
    "**(c)** What are the **20 most common words** in the corpus and how often do they occur? What is the 50th most common word, the 100th and the 1000th and how often do they occur?"
   ]
  },
  {
   "cell_type": "code",
   "execution_count": 118,
   "metadata": {},
   "outputs": [
    {
     "name": "stdout",
     "output_type": "stream",
     "text": [
      "Top 20:\n",
      "1st: , -> 48310\n",
      "2nd: the -> 40839\n",
      "3rd: . -> 38798\n",
      "4th: of -> 22782\n",
      "5th: to -> 22056\n",
      "6th: a -> 19171\n",
      "7th: and -> 15906\n",
      "8th: in -> 15085\n",
      "9th: 's -> 9249\n",
      "10th: that -> 7951\n",
      "11th: for -> 7912\n",
      "12th: $ -> 7125\n",
      "13th: is -> 6893\n",
      "14th: The -> 6791\n",
      "15th: said -> 5597\n",
      "16th: on -> 5112\n",
      "17th: % -> 4871\n",
      "18th: it -> 4639\n",
      "19th: by -> 4450\n",
      "20th: from -> 4437\n",
      "\n",
      "50th: had -> 1755\n",
      "100th: A -> 860\n",
      "1000th: subject -> 109\n"
     ]
    }
   ],
   "source": [
    "ordered_words = sorted(counter_orig.items(), key=lambda t: t[1], reverse=True)\n",
    "\n",
    "print(\"Top 20:\")\n",
    "for rank in list(range(1,21)) + [50, 100, 1000]:\n",
    "    suffix = \"th\"\n",
    "    \n",
    "    # Exceptions for podium places\n",
    "    if rank == 1: suffix = \"st\"\n",
    "    if rank == 2: suffix = \"nd\"\n",
    "    if rank == 3: suffix = \"rd\"\n",
    "    \n",
    "    print(str(rank) + suffix + \":\", ordered_words[rank - 1][0], \"->\", ordered_words[rank - 1][1])\n",
    "    if rank == 20: \n",
    "        print()"
   ]
  },
  {
   "cell_type": "markdown",
   "metadata": {},
   "source": [
    "**(d)** How many different Part-of-speech tags are present in the corpus?"
   ]
  },
  {
   "cell_type": "code",
   "execution_count": 119,
   "metadata": {
    "scrolled": true
   },
   "outputs": [
    {
     "name": "stdout",
     "output_type": "stream",
     "text": [
      "Unique POS-tags: 48\n",
      "Including punctuation\n"
     ]
    }
   ],
   "source": [
    "print(\"Unique POS-tags:\", len(list(counter_pos)))\n",
    "print(\"Including punctuation\")"
   ]
  },
  {
   "cell_type": "markdown",
   "metadata": {},
   "source": [
    "**(e)** Print a list of the **10 most commonly occurring POS tags** in the data. For each of these POS tags, what are the **3 most common words** that belong to that class?"
   ]
  },
  {
   "cell_type": "code",
   "execution_count": 120,
   "metadata": {},
   "outputs": [],
   "source": [
    "# Needed a dict with a set as value\n",
    "unique_wordPOS_combinations = defaultdict(set)\n",
    "\n",
    "for keys,values in counter_wordPOS.items():\n",
    "    word,POS = keys.split(\"|\", 1)\n",
    "    wordpos = (word, POS)\n",
    "    unique_wordPOS_combinations[word].add(POS)"
   ]
  },
  {
   "cell_type": "code",
   "execution_count": 121,
   "metadata": {},
   "outputs": [
    {
     "name": "stdout",
     "output_type": "stream",
     "text": [
      "1 NN with top words: ['the', 'that', '%']\n",
      "2 IN with top words: ['of', 'to', 'and']\n",
      "3 NNP with top words: ['the', 'a', \"'s\"]\n",
      "4 DT with top words: ['the', 'a', 'that']\n",
      "5 JJ with top words: ['the', '%', 'as']\n",
      "6 NNS with top words: [\"'s\", 'is', 'years']\n",
      "7 , with top words: [',', 'an', '2']\n",
      "8 . with top words: ['.', '?', '!']\n",
      "9 CD with top words: ['million', 'billion', 'one']\n",
      "10 RB with top words: ['of', 'and', 'in']\n"
     ]
    }
   ],
   "source": [
    "ordered_pos = sorted(counter_pos.items(), key=lambda t: t[1], reverse=True)\n",
    "top_pos_with_top_words = OrderedDict()\n",
    "\n",
    "# https://stackoverflow.com/questions/35791051/better-way-to-check-if-all-lists-in-a-list-are-the-same-length\n",
    "def stop_looking(found_words):\n",
    "    return all(len(l) == 3 for l in found_words)\n",
    "\n",
    "# Create dictionary with 10 most frequent POS-tags\n",
    "for i in range(10):\n",
    "    top_pos_with_top_words[ordered_pos[i][0]] = []\n",
    "\n",
    "# Start going through all the words in order of frequency\n",
    "for word, _ in ordered_words:\n",
    "    POS_tags = unique_wordPOS_combinations[word]\n",
    "    \n",
    "    # Iterate over the top 10 tags\n",
    "    for tag in top_pos_with_top_words.keys():\n",
    "        top_words = top_pos_with_top_words[tag]\n",
    "        \n",
    "        # If this word has the tag and the tag still has less than 3 words assigned\n",
    "        if tag in POS_tags and len(top_words) < 3:\n",
    "            top_words.append(word)\n",
    "    \n",
    "    # Stop looping over the wordlist as soon as all 10 tags have 3 words assinged\n",
    "    if stop_looking(top_pos_with_top_words.values()):\n",
    "        break\n",
    "            \n",
    "for i, kv in enumerate(top_pos_with_top_words.items()):\n",
    "    print(i+1, kv[0], \"with top words:\", kv[1])"
   ]
  },
  {
   "cell_type": "code",
   "execution_count": null,
   "metadata": {},
   "outputs": [],
   "source": []
  },
  {
   "cell_type": "code",
   "execution_count": null,
   "metadata": {},
   "outputs": [],
   "source": []
  },
  {
   "cell_type": "markdown",
   "metadata": {},
   "source": [
    "**(f)** A single word may have several POS-tags. For example, *record* can be a both a **noun** *(buy a record)* or a **verb** *(record a lecture)*. This make POS-tags extremely useful for **disambiguation**.\n",
    "\n",
    "What percentage of the words in the vocabulary is **ambiguous**? (i.e. have more than one POS tag?) What are the 10 most frequent combinations of POS tags in the case of ambitguity? Which words are **most ambiguous**? Give some of them."
   ]
  },
  {
   "cell_type": "code",
   "execution_count": 122,
   "metadata": {
    "scrolled": true
   },
   "outputs": [
    {
     "name": "stdout",
     "output_type": "stream",
     "text": [
      "13.469803211942999 % of the vocabulary is ambiguous\n",
      "\n",
      "The top 10 most ambiguous words are:\n",
      "down, with the tags:  {'RBR', 'NN', 'JJ', 'IN', 'VBP', 'RP', 'RB'}\n",
      "set, with the tags:  {'VBD', 'VBN', 'NN', 'JJ', 'VBZ', 'VBP', 'VB'}\n",
      "many, with the tags:  {'PDT', 'NN', 'JJ', 'VB', 'NP', 'RB', 'DT'}\n",
      "open, with the tags:  {'NN', 'JJ', 'VBZ', 'VBP', 'RP', 'RB', 'VB'}\n",
      "in, with the tags:  {'RBR', 'IN', 'RP', 'FW', 'CC', 'RB'}\n",
      "point, with the tags:  {'VBN', 'NN', 'JJ', 'VBZ', 'VBP', 'VB'}\n",
      "put, with the tags:  {'VBD', 'VBN', 'NN', 'JJ', 'VBP', 'VB'}\n",
      "left, with the tags:  {'VBD', 'VBN', 'NN', 'JJ', 'RB', 'VB'}\n",
      "hurt, with the tags:  {'VBD', 'VBN', 'NN', 'JJ', 'VBP', 'VB'}\n",
      "that, with the tags:  {'NN', 'IN', 'VBP', 'WDT', 'RB', 'DT'}\n",
      "\n",
      "The most ambiguous words, all with 7 distinct tags, are: \n",
      "down, with the tags:  {'RBR', 'NN', 'JJ', 'IN', 'VBP', 'RP', 'RB'}\n",
      "set, with the tags:  {'VBD', 'VBN', 'NN', 'JJ', 'VBZ', 'VBP', 'VB'}\n",
      "many, with the tags:  {'PDT', 'NN', 'JJ', 'VB', 'NP', 'RB', 'DT'}\n",
      "open, with the tags:  {'NN', 'JJ', 'VBZ', 'VBP', 'RP', 'RB', 'VB'}\n"
     ]
    }
   ],
   "source": [
    "# Dictionary of ambiguous words and their tags\n",
    "ambiguous = {}\n",
    "for words, pos in unique_wordPOS_combinations.items():\n",
    "    if len(pos)>1:\n",
    "        ambiguous[words]=pos\n",
    "\n",
    "# Percentage of ambiguous words\n",
    "vocabularysize =len(list(counter_orig.values()))\n",
    "print((len(ambiguous)/(vocabularysize))*100, '% of the vocabulary is ambiguous')\n",
    "\n",
    "\n",
    "print()\n",
    "\n",
    "# Most Ambiguous combinations?\n",
    "amb_sorted = OrderedDict(sorted(ambiguous.items(), key=lambda t: len(t[1]), reverse =True))\n",
    "print(\"The top 10 most ambiguous words are:\")\n",
    "for w, t in list(amb_sorted.items())[:10]:\n",
    "    print(w+\", with the tags: \", t)\n",
    "    \n",
    "print()\n",
    "    \n",
    "    \n",
    "# Most ambiguous words TODO\n",
    "print(\"The most ambiguous words, all with 7 distinct tags, are: \")\n",
    "for w, t in list(amb_sorted.items())[:4]:\n",
    "    print(w+\", with the tags: \", t)\n"
   ]
  },
  {
   "cell_type": "markdown",
   "metadata": {},
   "source": [
    "**(g)**  Print some of these words with their multiple POS-tags. Do you **understand the ambiguity**? Use figure 10.1 mentioned above to interpret the POS-tags."
   ]
  },
  {
   "cell_type": "markdown",
   "metadata": {
    "collapsed": true
   },
   "source": [
    "ANSWER:\n",
    "\n",
    "The top 10 most ambiguous words are printed above. The pos tags of  one of the most ambiguous word 'set' are:\n",
    "\n",
    "- NN =  noun, sing. or mass \n",
    "- JJ = adjective \n",
    "- VBD = verb past tense\n",
    "- VBN =  verb past participle\n",
    "- VBZ =  verb 3sg pres \n",
    "- VBP = verb non-3sg pres\n",
    "- VB = verb base form \n",
    "\n",
    "This word has appeared in the corpus in all these different forms of parts of speach"
   ]
  },
  {
   "cell_type": "markdown",
   "metadata": {},
   "source": [
    "**(h)** Ambiguous words do not account for a great percentage of the vocabulary. Yet they are among the most commonly occuring words of the English language. What **percentage of the dataset is ambiguous**?"
   ]
  },
  {
   "cell_type": "code",
   "execution_count": 123,
   "metadata": {},
   "outputs": [
    {
     "name": "stdout",
     "output_type": "stream",
     "text": [
      "Of the dataset 55.079005800643756% is ambiguous.\n"
     ]
    }
   ],
   "source": [
    "corpussize = sum(counter_orig.values())\n",
    "print('Of the dataset '+str((sum(counter_orig[i] for i in ambiguous) / corpussize) * 100)+'% is ambiguous.')"
   ]
  },
  {
   "cell_type": "markdown",
   "metadata": {},
   "source": [
    "## Exercise 1.2 (10 points, 5 per subquestion)"
   ]
  },
  {
   "cell_type": "markdown",
   "metadata": {},
   "source": [
    "You are also provided with another file called **sec00.gold.tagged**. \n",
    "Section 00 of the Penn Treebank is typically used as development data."
   ]
  },
  {
   "cell_type": "markdown",
   "metadata": {},
   "source": [
    "**(a)** How many **unseen words** are present in the development data (i.e., words that have not occurred in the training data)?"
   ]
  },
  {
   "cell_type": "code",
   "execution_count": 124,
   "metadata": {
    "scrolled": false
   },
   "outputs": [
    {
     "name": "stdout",
     "output_type": "stream",
     "text": [
      "The size of the vocabulary of the training dataset is: 44210 \n",
      " The size of the development data vocabulary is:  45422 \n",
      " And there are 1728 unseen words\n"
     ]
    }
   ],
   "source": [
    "path = os.path.join(\"data\",\"sec00.gold.tagged\")\n",
    "file = open(path,\"r\")\n",
    "\n",
    "counter_develop_token = Counter()\n",
    "counter_develop_pos = Counter()\n",
    "develop_tokens = []\n",
    "develop_pos = []\n",
    "\n",
    "for lin in file:\n",
    "    lines = lin.strip().split(\" \")\n",
    "    \n",
    "    for lin in lines:\n",
    "        token, pos = lin.split(\"|\", 1)\n",
    "        \n",
    "        develop_tokens.append(token)\n",
    "        develop_pos.append(pos)\n",
    "        \n",
    "file.close()\n",
    "\n",
    "vocabulary = list(counter_orig)\n",
    "unseen_tokens = [(token, pos) for token, pos in zip(develop_tokens, develop_pos) if not token in vocabulary]\n",
    "unseen_pos = Counter(p[1] for p in unseen_tokens)\n",
    "\n",
    "\n",
    "\n",
    "\n",
    "\n",
    "print(\"The size of the vocabulary of the training dataset is:\", len(vocabulary),\"\\n The size of the development data vocabulary is: \", len(develop_tokens),\"\\n And there are \"+str(len(unseen_tokens))+\" unseen words\")\n"
   ]
  },
  {
   "cell_type": "markdown",
   "metadata": {},
   "source": [
    "**(b)** What are the three **POS tag categories** that the most **unseen words** belong to?"
   ]
  },
  {
   "cell_type": "code",
   "execution_count": 125,
   "metadata": {
    "scrolled": true
   },
   "outputs": [
    {
     "name": "stdout",
     "output_type": "stream",
     "text": [
      "NNP: 815\n",
      "JJ: 258\n",
      "NN: 210\n"
     ]
    }
   ],
   "source": [
    "\n",
    "for pos, freq in unseen_pos.most_common(3):\n",
    "    print(str(pos)+\": \"+str(freq))\n",
    "\n"
   ]
  },
  {
   "cell_type": "markdown",
   "metadata": {},
   "source": [
    "# 2. Language Models\n",
    "\n",
    "This part of the lab will be covered in the Wednesday lecture. If you have prior exposure to NLP, go ahead and finish this part! If you don't, start anyway, and this part will be clear after the lecture. \n",
    "\n",
    "Reference **chapter 4** of J&M *Language Modeling with N-Grams*. \n",
    "\n",
    "----------\n",
    "\n",
    "Models that assign **probabilities** to **sequences of words** are called language **language\n",
    "modelels** or **LMs**. The simplest model that assigns probabilities to sentences and sequences of words is the **N-gram** model.\n",
    "\n",
    "Recall that an *N*-gram language model uses **conditional probabilities** of the form\n",
    "    \n",
    "$$P(w_k \\mid w_{k-N+1} \\dots w_{k-1})$$\n",
    "\n",
    "to **approximate** the full **joint probability**\n",
    "\n",
    "$$P(w_1 \\dots w_n)$$\n",
    "\n",
    "of a sequence of words $w_1 \\dots w_n$.\n",
    "\n",
    "The easiest way of obtaining estimates for the probabilities $P(w_k \\mid w_{k-N+1} \\dots w_{k-1})$ is to use the **maximum likelihood estimate** or **MLE**, a widely used statistical estimation method ([read more]((https://en.wikipedia.org/wiki/Maximum_likelihood_estimation)). You count and normalize:\n",
    "\n",
    "$$P_{MLE}(w_k \\mid w_{k-N+1} \\dots w_{k-1}) = \\frac{C(w_{k-N+1} \\dots w_{k-1} w_k)}{C(w_{k-N+1} \\dots w_{k-1})}.$$\n",
    "\n",
    "\n",
    "## Exercise 2.1 (25 points)\n",
    "\n",
    "**(a) ** Complete the function `train_ngram` so that you can train a count-based $N$-gram language model on the data found in `data/ted-train.txt` and train this for $N=2,3,4$. **15 points**\n",
    "\n",
    "**(b) ** Extend the function above so that it accepts a parameter `k` for optional add-$k$ smoothing. **10 points**\n",
    "\n",
    "**[Datastructure hint]** If you store the smoothed language in a naive manner (that is, to store *all* the numbers separately) your datastructure will get huge! If $V$ is the vocabulary then the smoothed bigram model assigns probabilities to $|V|^2$ entries. If $|V|$ is around 80k, the naive way requires you to store more than 64 billion floats. Yet almost all of these are actually just $P(w_n|w_{n-1}) = \\frac{k}{N + k|V|}$, with $k$ the value with which you smooth and $N=C(w_{n-1})$. Think about how you use this fact to make your model work in practice."
   ]
  },
  {
   "cell_type": "markdown",
   "metadata": {},
   "source": [
    "**[Python hint]** The `collections` library has another useful datastructure: the `defaultdict`. Some example uses:"
   ]
  },
  {
   "cell_type": "code",
   "execution_count": 126,
   "metadata": {},
   "outputs": [
    {
     "data": {
      "text/plain": [
       "0.0"
      ]
     },
     "execution_count": 126,
     "metadata": {},
     "output_type": "execute_result"
    }
   ],
   "source": [
    "from collections import defaultdict\n",
    "\n",
    "d = defaultdict(float)\n",
    "d[\"new key\"]"
   ]
  },
  {
   "cell_type": "markdown",
   "metadata": {},
   "source": [
    "Compare that to an ordinary dictionary:"
   ]
  },
  {
   "cell_type": "code",
   "execution_count": 127,
   "metadata": {},
   "outputs": [
    {
     "ename": "KeyError",
     "evalue": "'new key'",
     "output_type": "error",
     "traceback": [
      "\u001b[0;31m---------------------------------------------------------------------------\u001b[0m",
      "\u001b[0;31mKeyError\u001b[0m                                  Traceback (most recent call last)",
      "\u001b[0;32m<ipython-input-127-b8ace26bc60b>\u001b[0m in \u001b[0;36m<module>\u001b[0;34m()\u001b[0m\n\u001b[1;32m      1\u001b[0m \u001b[0md\u001b[0m \u001b[0;34m=\u001b[0m \u001b[0mdict\u001b[0m\u001b[0;34m(\u001b[0m\u001b[0;34m)\u001b[0m\u001b[0;34m\u001b[0m\u001b[0m\n\u001b[0;32m----> 2\u001b[0;31m \u001b[0md\u001b[0m\u001b[0;34m[\u001b[0m\u001b[0;34m\"new key\"\u001b[0m\u001b[0;34m]\u001b[0m\u001b[0;34m\u001b[0m\u001b[0m\n\u001b[0m",
      "\u001b[0;31mKeyError\u001b[0m: 'new key'"
     ]
    }
   ],
   "source": [
    "d = dict()\n",
    "d[\"new key\"]"
   ]
  },
  {
   "cell_type": "markdown",
   "metadata": {},
   "source": [
    "Other datatypes as `default_factory`:"
   ]
  },
  {
   "cell_type": "code",
   "execution_count": null,
   "metadata": {},
   "outputs": [],
   "source": [
    "d = defaultdict(int)\n",
    "d[\"new key\"]"
   ]
  },
  {
   "cell_type": "code",
   "execution_count": null,
   "metadata": {},
   "outputs": [],
   "source": [
    "d = defaultdict(list)\n",
    "d[\"new key\"]"
   ]
  },
  {
   "cell_type": "markdown",
   "metadata": {},
   "source": [
    "Converting an already existing `dict`:"
   ]
  },
  {
   "cell_type": "code",
   "execution_count": null,
   "metadata": {},
   "outputs": [],
   "source": [
    "d1 = {k: \"value\" for k in range(1, 11)}\n",
    "d = defaultdict(float, d1) # convert it to a defaultdict\n",
    "print(d[5])\n",
    "print(d[100])"
   ]
  },
  {
   "cell_type": "markdown",
   "metadata": {},
   "source": [
    "This doesn't work:"
   ]
  },
  {
   "cell_type": "code",
   "execution_count": null,
   "metadata": {},
   "outputs": [],
   "source": [
    "d = defaultdict(10)"
   ]
  },
  {
   "cell_type": "markdown",
   "metadata": {},
   "source": [
    "Use a `lambda` to make the number `10` `callable`\":"
   ]
  },
  {
   "cell_type": "code",
   "execution_count": null,
   "metadata": {},
   "outputs": [],
   "source": [
    "d = defaultdict(lambda: 10)\n",
    "d[\"new key\"]"
   ]
  },
  {
   "cell_type": "code",
   "execution_count": null,
   "metadata": {},
   "outputs": [],
   "source": [
    "d = defaultdict(lambda: defaultdict(float))\n",
    "d[\"new key\"]"
   ]
  },
  {
   "cell_type": "markdown",
   "metadata": {},
   "source": [
    "Clever use of a `defaultdict` can be the solution to the problem of data-storing in a smoothing $N$-gram pointed out above:\n",
    "    \n",
    "    ngram = defaultdict(lambda: k/(N+kV), ngram)"
   ]
  },
  {
   "cell_type": "markdown",
   "metadata": {},
   "source": [
    "The following function is given:"
   ]
  },
  {
   "cell_type": "code",
   "execution_count": 128,
   "metadata": {},
   "outputs": [],
   "source": [
    "train_file = os.path.join(\"data\",\"ted-train.txt\")\n",
    "\n",
    "def read(fname, max_lines=np.inf):\n",
    "    \"\"\"\n",
    "    Reads in the data in fname and returns it as\n",
    "    one long list of words. Also returns a vocabulary in\n",
    "    the form of a word2index and index2word dictionary.\n",
    "    \"\"\"\n",
    "    data = []\n",
    "    # w2i will automatically keep a counter to asign to new words\n",
    "    w2i = defaultdict(lambda: len(w2i))\n",
    "    i2w = dict()\n",
    "    start = \"<s>\"\n",
    "    end = \"</s>\"\n",
    "    \n",
    "    with open(fname, \"r\") as fh:\n",
    "        for k, line in enumerate(fh):\n",
    "            if k > max_lines:\n",
    "                break\n",
    "            words = line.strip().split()\n",
    "            # assign an index to each word\n",
    "            for w in words:\n",
    "                i2w[w2i[w]] = w # trick\n",
    "            \n",
    "            sent = [start] + words + [end]\n",
    "            data.append(sent)\n",
    "\n",
    "    return data, w2i, i2w"
   ]
  },
  {
   "cell_type": "code",
   "execution_count": 499,
   "metadata": {},
   "outputs": [],
   "source": [
    "def train_ngram(data, N, k=0):\n",
    "    \"\"\"\n",
    "    Trains an n-gram language model with optional add-k smoothing\n",
    "    and additionaly returns the unigram model\n",
    "    \n",
    "    :param data: text-data as returned by read\n",
    "    :param N: (N>1) the order of the ngram e.g. N=2 gives a bigram\n",
    "    :param k: optional add-k smoothing\n",
    "    :returns: ngram and unigram\n",
    "    \"\"\"\n",
    "    ngram = defaultdict(Counter) # ngram[history][word] = #(history,word)\n",
    "    flat_data = [word for sent in data for word in sent]\n",
    "    unigram = defaultdict(float, Counter(flat_data)) # default prob is 0.0\n",
    "    history_count = Counter()\n",
    "    \n",
    "    # history is a fixed length list which fills FIFO from right to left using .append()\n",
    "    current_history = deque((N-1)*[\"\"], N-1)\n",
    "    \n",
    "    for i, word in enumerate(flat_data):\n",
    "        curr_history_string = ' '.join(current_history)\n",
    "        \n",
    "        history_count[curr_history_string] += 1\n",
    "        \n",
    "        # Update count for (history, word)\n",
    "        ngram[curr_history_string][word] += 1\n",
    "        \n",
    "        # Add word to history\n",
    "        current_history.append(word)\n",
    "        \n",
    "#         if i % 100 == 0: print(curr_history_string)\n",
    "    \n",
    "    for word in list(unigram):\n",
    "        unigram[word] = (unigram[word] / len(flat_data))\n",
    "    \n",
    "    for i, history in enumerate(list(ngram)):\n",
    "        for word in list(ngram[history]):\n",
    "            \n",
    "            ngram[history][word] = (ngram[history][word] / history_count[history])\n",
    "\n",
    "            # Add word to history\n",
    "            current_history.append(word)\n",
    "\n",
    "    return ngram, unigram"
   ]
  },
  {
   "cell_type": "code",
   "execution_count": 550,
   "metadata": {},
   "outputs": [],
   "source": [
    "data, w2i, i2w = read(train_file)\n",
    "bigram, unigram = train_ngram(data, N=2, k=0)\n",
    "trigram, unigram = train_ngram(data, N=3, k=0)\n",
    "quadgram, unigram = train_ngram(data, N=4, k=0)\n",
    "# bigram_smoothed, unigram_smoothed = train_ngram(data, N=2, k=1)"
   ]
  },
  {
   "cell_type": "code",
   "execution_count": 589,
   "metadata": {},
   "outputs": [],
   "source": [
    "chat, w2i, i2w = read('data/somewhat_cleaned_chat.txt')\n",
    "chatgram, uni = train_ngram(chat, N=2, k=0)\n",
    "chatgram_3, uni = train_ngram(chat, N=3, k=0)"
   ]
  },
  {
   "cell_type": "code",
   "execution_count": 590,
   "metadata": {},
   "outputs": [
    {
     "name": "stdout",
     "output_type": "stream",
     "text": [
      "[('', Counter({'<s>': 1.0})), ('26ste', Counter({'😂': 1.0})), ('“', Counter({'🔥': 0.21739130434782608, 'amsterdams': 0.17391304347826086, 'mag': 0.08695652173913043, 'nyx': 0.043478260869565216, \"d'r\": 0.043478260869565216, 'nee': 0.043478260869565216, 'je': 0.043478260869565216, '🔥🔥': 0.043478260869565216, 'woo': 0.043478260869565216, 'hshsyshdhdh': 0.043478260869565216, 'normals': 0.043478260869565216, 'slaap': 0.043478260869565216, 'terugbelt': 0.043478260869565216, 'skatecafe': 0.043478260869565216, 'ik': 0.043478260869565216})), ('emotioneel', Counter({'van': 0.5, 'kutkind': 0.5})), ('leen', Counter({'voor': 0.4, 'gewoon': 0.2, 'of': 0.2, '?': 0.2})), ('wok', Counter({'to': 1.0})), ('service', Counter({'punt': 0.25, 'kosten': 0.25, 'ksoten': 0.25, 'heen': 0.25})), ('goodluck', Counter({'yung': 1.0})), ('ketamine', Counter({'is': 1.0})), ('😘', Counter({'</s>': 0.75, 'joeee': 0.25}))]\n",
      "\n",
      "Counter({'gaan': 0.09090909090909091, 'ff': 0.09090909090909091, 'toch': 0.09090909090909091, 'is': 0.09090909090909091, '?': 0.09090909090909091, 'bezorgd': 0.09090909090909091, 'van': 0.09090909090909091, 'te': 0.09090909090909091, '</s>': 0.09090909090909091, 'die': 0.09090909090909091, 'komt': 0.09090909090909091})\n",
      "\n",
      "[('</s>', 0.09814936226010251), ('<s>', 0.09814936226010251), ('ik', 0.02632912146858982), ('je', 0.01601054952914531), ('?', 0.014721659315770652), ('is', 0.012702646322565264), ('en', 0.010579330075098344), ('de', 0.010385624031469781), ('niet', 0.009975861246870903), ('een', 0.009759804505900584)]\n"
     ]
    }
   ],
   "source": [
    "print(list(chatgram.items())[:10])\n",
    "print()\n",
    "print(chatgram_[\"dealer\"])\n",
    "print()\n",
    "print(sorted(uni.items(), key=lambda t: t[1], reverse=True)[:10])"
   ]
  },
  {
   "cell_type": "code",
   "execution_count": 552,
   "metadata": {},
   "outputs": [
    {
     "name": "stdout",
     "output_type": "stream",
     "text": [
      "Sum of unigram prob: 0.9999999999995922\n"
     ]
    }
   ],
   "source": [
    "print(\"Sum of unigram prob:\", sum(list(unigram.values())))"
   ]
  },
  {
   "cell_type": "markdown",
   "metadata": {},
   "source": [
    "## Exercise 2.2 (5 points)\n",
    "\n",
    "You can use an *N*-gram language model to **generate text**. The higher the order *N* the better your model will be able to catch the long-range dependecies that occur in actual sentences and the better your changes are at generating sensible text. But beware: **sparsity** of language data will quickly cause your model to reproduce entire lines from your training data; in such cases only one $w_k$ was observed for the histories $w_{k-N+1}\\dots w_{k-1}$ in the entire training-set.\n",
    "\n",
    "**Complete** the function `generate_sent`. It takes a language model `lm` and an order `N` and should generate a sentence by **sampling** from the language model.\n",
    "\n",
    "**[Hint]** You can use the method of [inverse transform sampling](https://en.wikipedia.org/wiki/Inverse_transform_sampling) to generate a sample from a **categorical distribution**, $p_1\\dots p_k$ such that $p_i \\geq 0$ and $\\sum_{i=1}^k p_i = 1$, as follows:"
   ]
  },
  {
   "cell_type": "code",
   "execution_count": 439,
   "metadata": {},
   "outputs": [
    {
     "name": "stdout",
     "output_type": "stream",
     "text": [
      "3\n",
      "Counter({1: 515, 2: 199, 0: 197, 3: 89})\n"
     ]
    }
   ],
   "source": [
    "from random import random\n",
    "\n",
    "P = [0.2,0.5,0.2,0.1]\n",
    "\n",
    "def sample(P):\n",
    "    u = random() # uniformly random number between 0 and 1\n",
    "    p = 0\n",
    "    for i, p_i in enumerate(P):\n",
    "        \n",
    "        # swapped the lines to get rid of None and align the output with the list indices\n",
    "        p += p_i\n",
    "        if p > u: \n",
    "            return i # the first i s.t. p1 + ... + pi > u\n",
    "        \n",
    "        \n",
    "print(sample(P))\n",
    "\n",
    "print(Counter([sample(P) for i in range(1000)])) # check to see if the law of large numbers is still true"
   ]
  },
  {
   "cell_type": "markdown",
   "metadata": {},
   "source": [
    "Inverse transform sampling in the words of Jurafsky and Martin:\n",
    "\n",
    "> Imagine all the words of the English language covering the probability space\n",
    "between 0 and 1, each word covering an interval proportional to its frequency. We\n",
    "choose a random value between 0 and 1 and print the word whose interval includes\n",
    "this chosen value.\n",
    "\n",
    "(J&M, section 4.3)"
   ]
  },
  {
   "cell_type": "code",
   "execution_count": 551,
   "metadata": {},
   "outputs": [
    {
     "name": "stdout",
     "output_type": "stream",
     "text": [
      "Bigram  <s> There are getting it acts as you people and the likelihood of planning from Microsoft kids were trying to have a three-hour version in that happens . </s> <s> And it up seeing is a blog is a while . </s> <s> I 've gotten behind the last story , I actually matters was like this information and make fun . </s> <s> And a good at least for ? . </s> <s> This is a conversation . </s> <s> \" . </s> <s> I live , hearty species back underwater explorer , you 're moving her baby\n",
      "\n",
      "Trigram  <s> Here are some of these six years ago , to cut the cylinders piece , which we are today . </s> <s> One of the time to calculate anything . </s> <s> The irony is the silicon revolution , yes , because the amount of dollars in taxes , subsidies . </s> <s> So there he is . </s> <s> But the same background as to invite me to use it . </s> <s> There are other reasons . </s> <s> It 's not guilt . </s> <s> Edward Hopper in this poem , which it can fly\n",
      "\n",
      "Quadgram  <s> Here are the results of things done to us , and seek out some more intelligent , make us feel like the sun is with no user set-up . </s> <s> Firstly , because I realized that my time is up . </s> <s> And they made mistakes , too , which lead to more and more transparent . </s> <s> Wow . </s> <s> It 's a very small form , like the one Cervantes wrote about in \"Don Quixote ,\" yes ? I 'm a video game that , while he has actually anticipated and calculated\n"
     ]
    }
   ],
   "source": [
    "def gen_next_word(lm, history=None):\n",
    "\n",
    "    if history != None:\n",
    "        lm = lm[history]\n",
    "        \n",
    "    P = lm.values()\n",
    "    word_options = list(lm.keys())\n",
    "    \n",
    "    i = sample(P)\n",
    "\n",
    "    return word_options[i]\n",
    "    \n",
    "def generate_sent(lm, N):\n",
    "\n",
    "    sentence = [\"\"]*N\n",
    "    \n",
    "    arity = len(list(lm.keys())[0].split(' '))\n",
    "\n",
    "    history = deque(arity*[\"\"], arity)\n",
    "    \n",
    "    for i in range(1, N):\n",
    "        next_word = gen_next_word(lm, ' '.join(history))\n",
    "        sentence[i] = next_word\n",
    "        history.append(next_word)\n",
    "    \n",
    "    return ' '.join(sentence)\n",
    "\n",
    "# generate_sent(unigram, 20)\n",
    "N = 100\n",
    "print(\"Bigram\", generate_sent(bigram, N))\n",
    "print()\n",
    "print(\"Trigram\", generate_sent(trigram, N))\n",
    "print()\n",
    "print(\"Quadgram\", generate_sent(quadgram, N))"
   ]
  },
  {
   "cell_type": "code",
   "execution_count": 593,
   "metadata": {},
   "outputs": [
    {
     "name": "stdout",
     "output_type": "stream",
     "text": [
      "Chatgram  <s> anyway ik kan eht niet meer </s> <s> did i faint ? '' </s> <s> eentje reageert ook eens ; p </s> <s> en overigens 0 geld dus playdead bye </s> <s> zegt een kill ja had je alles geweten </s> <s> was laatst wel overal op </s> <s> ik wil wel denk ik zo </s> <s> was nog mijn fout want ik kan niet bea , sorry . gelukkig zie ik </s> <s> moet ik wakka naar de supper </s> <s> is in den haag </s> <s> ik bedoel lijst kill hahaha </s> <s> wilde die chili pepperoni </s> <s> oke ga wel later ff </s> <s> ik wacht boven op over 10 min </s> <s> vooral de keta hoorde ik </s> <s> k ben bijna klaar bent bo </s> <s> volgens mij </s> <s> echt kk zoet </s> <s> ik zei het tegen les verte </s> <s> hoe is awake </s> <s> ik ook echt </s> <s> jer hoe lang heb je wel vaker op n zondag ? ja toch </s> <s> mn project groepje verdomd t gewoon te ver rennen was . 😢 </s> <s> ja echt stelletje amateurs daar </s> <s> en jij </s> <s> hoe raken jullie zo wel ff aan school kan doen aangezien ik mn eerste vrije vrijdag 😎 ff lekker in bed haha , daarom verbaast dit me een nieuwe duitse chick nu in mn badje gepist had </s> <s> ze hebben etentje met tarrel maar gaan t proberen te scoren </s> <s> kga n keer borrelen op werk </s> <s> _deze link is geldig t/m 12 september_ </s> <s> heb echt nul verstand van die shit loopt sowieso kk goed idee </s> <s> slaan ze toch niet morgen is de fissa zelf </s> <s> dus dan kan je gewoon inplannen op chille diensten </s> <s> haha en t beest al eng enzo </s> <s> is fissa op ruigoord </s> <s> ahaha ik twijfel ben bij n andere kapper geweest </s> <s> als ie dan zaterdag avond </s> <s> ben met jelle aars denz en sanne en rian </s> <s> misschien kan je niet meer wat ik pp mn pokkie gaat zo lekker te gebruiken </s> <s> hee maar is het minder druk ? ? ? ? </s> <s> zn mond is kk rommel en ik gebruik mn agenda echt intensief </s> <s> or is it like buiten de bubbel , binnen </s> <s> kil wil je me er ook zijn . </s> <s> @ 31622716652 </s> <s> ze wennen er maar kan wel ff kijken naar got </s> <s> denk niet dat ik mijn trein naar huis kinders </s> <s> 50 bij pathe de munt . the butcher , vapiano of ergens op een chille bank nu </s> <s> ik ben er ook niet op ritchy ook </s> <s> ik ga mn deadline denk ik wel wil gaan of niet </s> <s> maar een paar jaar geleden ofso , want je krijgt 20 ekkers , ik stop met onzin uitkramen . </s> <s> are we raised by the creek </s> <s> probeer zo wel die andere is eentje die iedereen hier wordt savage als hij 2 dagen naast </s> <s> dus nu chillen we met zoveel komen </s> <s> hoelaat gaan jullie allemaal aan op slechte ideeen </s> <s> omgomgomg is this bitch heeft ff dr simkaart in dr oude 5s gedaan </s> <s> we gaan naar een ander bedrijf borrelen haha </s> <s> @ 31628601221 @ 31645222692 @ 31622716652 ben je echt af </s> <s> miss over een maand niet gezien </s> <s> maar is wel echt mn best om roze te zien was het geen antidepressiva , bij jou </s> <s> of ga je 12-uur momentje sws niet kunnen lopen </s> <s> wat is dit arthur waar jullie zijn niet hard </s> <s> oke wie joint kippppie festival dan , moet nog eten en werken </s> <s> jump skills waren ook matties van nicu ? ? ? </s> <s> vind het wel gek van star wars/ star trek niet een gimma ofzo </s> <s> turk die roept `` nederland lekker land ! ! ! </s> <s> waar kijken jullie vnv ? </s> <s> wanneer zijn precies tentamenweken/herkansingen ? hoe ben ik ook maar ben er bij ! heb echt niets gelezen op whatsapp ! </s> <s> kan ik nog altijd om me heen gekregen ( geen grap ) </s> <s> @ 31618448676 @ 31611534403 @ 31647855621 </s> <s> heb je nog over acta , weet niet meer met sha chillen </s> <s> we stonden met te veel gedaan </s> <s> in diemen valt t mee eens </s> <s> haha moet je ook ? </s> <s> en dan krijg ik woensdag loop gips </s> <s> it was not me 🤷‍♂ </s> <s> mijn hockeywedstrijd kijken ! ! ! ! ! ! ! ! ! ! ! ! ! ! </s> <s> yes on my way ! </s> <s> wat is nou de straf ? </s> <s> hahah wil je niet met een paar mb 's </s> <s> i can ’ t know </s> <s> jij durft milan niet te drinken zit er eentje bij mosveld ? kom door vanuit grun </s> <s> hoe zie je dit ? niemand anders gaan </s> <s> wauw hoe sturen jullie 63 berichten in 1 minuut </s> <s> kk ik ben steady </s> <s> getting busted for not sharing your knowledge # bye </s> <s> ik denk ik wel aan voor een 21 diner </s> <s> had wel goeie goeie seks </s> <s> ik ga zo uiteten met mn mac formatteren ? </s> <s> kom we gaan </s> <s> het staat toch bij ritchy ? ? </s> <s> ik moet eerst echt surfen 😱 </s> <s> ze zei echt dingen die ik en sophie is er geen appartement boven broker wat je kan beter werken met iemand anders . normaal kan je arrogant doen </s> <s> antal en soichi terada ! ! ! ! ! ! ! ! </s> <s> is echt faya </s> <s> or if it was niet 'gewoon casual ' 😂😭 </s> <s> 00 uur is om te doen </s> <s> oke ik zal de meest precieze beschrijving geven i can ’ t know </s> <s> niet over nagedahht i guess </s> <s> echt een next level hipster tent </s> <s> zijn jullie heen dan </s> <s> hahaha die was echt niet lit </s> <s> nee oke sophie gedraag je </s> <s> hey misschien kom ik zo </s> <s> nja mijn slaapkamer is 8m2 </s> <s> 15 echt nooit redden 😭 </s> <s> ) dus ben er straks pas </s> <s> ben net wakker ouwe </s> <s> hey guys dit kan ook yung strikizroe meenemen </s> <s> met olaf en die winterding allebei op 27 </s> <s> heb mn scooter een week </s> <s> jawel is laatste dag wss abi </s> <s> is ghb maar 2 ! </s> <s> m'n chaps zit nog 2,5 tussen </s> <s> een guy komt niet opdagen </s> <s> kan iemand open doen </s> <s> moet je wel andere matties </s> <s> niet echt iets verkeerd maar t lag nog bij mn andere werk te vieren hebt </s> <s> wat ga je strafwerk ? </s> <s> 00 uur is om te werken bij broker </s> <s> hahahaha je hoort t kk leuk t is echt mega chill </s> <s> we moeten nog ff zeggen na jarenlange kwelling ) </s> <s> ik wist ook niet gezien ik verwacht wel een kanker chagrijnige </s> <s> ben sambucca aan t feesten met t broertje van jesse piotr </s> <s> hahahhaha met geef bedoel m gewoon niet helemaal af ? gewoon barretje bij ocean diva , 10tje per uur ? </s> <s> echt alsof de episode van a tot z gespoiled wordt en alsof mensen steeds iets nieuws </s> <s> en een trui </s> <s> ( echt geen idee . </s> <s> en hoe duur ? </s> <s> ik ga , moet je niet kan beantwoorden . </s> <s> weet niet of ik r tent mee kon nemen ben gewoon thuis straks ? </s> <s> ik heb oprecht geen idee , wij zijn er in de droger te gooien😢 </s> <s> zat er wel tof uit </s> <s> jij kan toch toeval zijn . </s> <s> heeft iemand een oude telefoon / hele kleine boxen/ een middelgrote box die we niet 6-6 ipv 3-3 haha </s> <s> en is gewoon een fb post gooien met de auto gaan vandaag </s> <s> maar 2 ! </s> <s> ik waar clau heeft lijst ) </s> <s> ja alleen now i ended up learning 2,5 hoofdstukken in een of ander kubushotel overnachten dat is wel een heel ander level he pik </s> <s> ja kk nice he wtf </s> <s> flashed boobies voor random snap </s> <s> ja ik dan dan doe je ook zwemmen </s> <s> jup + lekker openen en sluiten </s> <s> vorige keer anderhalf uur wachten </s> <s> ik heb ook muntjes gestolen voor een bon </s> <s> ik eet geen flees </s> <s> kl leip verslapen voor werk sha ? </s> <s> kan me ook echt kkkkk slecht </s> <s> kga m ook n beetje te regenboos </s> <s> wat is het iets van 10 doorgestuurd </s> <s> ik heb een fles wijn mee </s> <s> volgens mij regent t nog te denken yo laatste dag wss abi </s> <s> zou je over een maand barhoofd is🤔 </s> <s> nic waar ben je voor clau </s> <s> jaaaa maar martje en annoe te supporten dag </s> <s> laten we gewoon in een lokaal </s> <s> was vroeger ook aan de late kant met het restaurant </s> <s> wat is iedereen nr huis rijden ? </s> <s> ? ? ? ? ? ? </s> <s> maar ze is vreemd gegaan met online inchecken toen ik zag je </s> <s> mijn taxi vertrekt hier om half 3'et klas </s> <s> reddit.com game of thrones s07e06 </s> <s> hoe is t bij jullie zetten </s> <s> jongens onze fav asian komt maandag terug </s> <s> gewoon op t zelfde flikkkke p </s> <s> zit weer goed </s> <s> ik had met twee loten 200 % minder gepakt als jij je belangrijke zaken hebt veilig gesteld kan er om 4 een afspraak en morgen vroeg moeten bikkelen </s> <s> wanneer ga ik gewoon al heel lang meer blijf </s> <s> kom met ze alle naar 'damsko halloween thriller indd ja haha </s> <s> ja ps op de grond </s> <s> @ 31649962096 ben je nou denzel </s> <s> 30 op school </s> <s> je bent echt een goeie pre party bij hou ? ? </s> <s> en een kaassoufle </s> <s> ‎milan van der gehad </s> <s> ben nu op de bank </s> <s> ik moet ook werken km 5 </s> <s> ik snap het nu niet vragen oh sorry , het is duidelijk </s> <s> pokkie staat niet op de after ? </s> <s> of we halen er wel ff chill praten hoe en wat met eten ik sluit me erbij aan </s> <s> haha ja moet toch sowieso altijd nat </s> <s> miel en ik zijn after bij canvas </s> <s> dat is hetzelfde als dat niet uit de oven </s> <s> ik had dit al denk </s> <s> tent is echt faya </s> <s> heb moeite met de boy naar casablanca </s> <s> ben zo klaar hier kyen </s> <s> ik kom hier morgen op sp maar heb dan 3 uitzonderingen </s> <s> moest ik voetballen , had ik duitsers met wiet gevonden </s> <s> ehmm nee geen farrieda geen facking farrieda '' </s> <s> we checken gwn wie morgen kan ik `` noodoproep '' doen maar kanker hard fucked up ben namelijk ook wel het licht gezien </s> <s> ja jij mag bij mij </s> <s> daarna chappe en robinson kijken </s> <s> ik kom ook uit een boek </s> <s> hahahahha ik zei met kk veel plezier jongens op aww he </s> <s> dus waar gaan jullie nog na melt ? ? ' </s> <s> ax weet je of niet meer school </s> <s> nee , ik ben nu willem de zwijgerlaan </s> <s> ik wil in dat troosteloze hok zaten </s> <s> kan er zo doorheen jongens wejo </s> <s> tussen 10juli en 6aug heb je al bijna daar </s> <s> niet ? </s> <s> ze was niet genoeg bezoekers hebben door de verbouwing </s> <s> no k moet beginnen </s> <s> ik ben gwn picie illegaal , laat me met rust </s> <s> 00 @ 31634734350 </s> <s> jongens t is kkkkk geil </s> <s> is wel iets mis gegaan met kenny </s> <s> is t sieraad ? ? ? ! ? </s> <s> ik heb waarschijnlijk suikerfeest zondag , moet ik alweer naar bed </s> <s> er was niemand dus kon gewoon niet meer focussen </s> <s> wat moet ik alweer naar bed </s> <s> why pick one when you want your drink or na </s> <s> after in de uber naar nyx op donderdag ? </s> <s> ben nog aan t feesten met t geld is zou chill zijn </s> <s> doe geen dingen die ik kan wel slaapzak ofzo halen </s> <s> freek candel .. zeker skaffa ouders </s> <s> toen zei een klant . 'quarenta y tres , dat jullie hem daar naar toe denk ik max </s> <s> kanker zie ritchy al typen </s> <s> heb gedroomd dt ritchy een bank ging beroven </s> <s> gewoon 2 persoonstent 1 persoons bij blokker volgensmij </s> <s> `` aan '' </s> <s> volgensmij is m'n geluid stuk 🙄 </s> <s> maar ik ben er om half 12 onze uber bestellen ? </s> <s> jaa ik wil ook wel echt legit </s> <s> als ik me nummer heb gegeven </s> <s> @ 31621103613 expeditie is btw geregisseerd door dezelfde regisseur als sorry voor de rest kan beamen hoe zwaar ik het red met leren maar denk dat het druk is </s> <s> afgelopen nacht meest dronken ooit </s> <s> niet als je t hebben </s> <s> @ 31618448676 ? ? ? </s> <s> je moet snel bij eye zijn ouwe </s> <s> als je roxanne heet </s> <s> durf echt niet loyal </s> <s> je kan evt na afloop nog een verjaardag en vrijdag , weekend met vereniging . maar ze werkt bijna nooit want k weet t niet lang bewaren </s> <s> en sinds jerry 's nummer niet </s> <s> ja nakkie jij moet ff checken of ik wel ff langs </s> <s> wij staan in de trein </s> <s> ja betaal je 5eu meer maar kunnen er donderdagavond van 18-23 uur werken 😢 </s> <s> rente lening duo in 2018 0 % </s> <s> ik spotte het op een vriendin bij dat kk lichte billboard </s> <s> ik heb mn bike niet atm </s> <s> hij zei dat t meer van facebook </s> <s> ons ’ lieve heer op solder 😍 </s> <s> nee hij is zo kk bad op mn lens </s> <s> je moet ff een toets maken voor werk training </s> <s> brn met hans en rox </s> <s> kan je ophalen met de squad is echt smootf man </s> <s> ik kom uit ally , ben nu op snap ? ! </s> <s> naar de ceuvel is radioactief </s> <s> bruh ... . </s> <s> nee oke fair je was vr toch vrij </s> <s> die is denk ik echt al een uur geleden een livestream van museum </s> <s> een guy uit mijn team die er is wel een waterbuffrl naast me </s> <s> dat er iets is gebeurt met dr gefacetimed </s> <s> dan fuck ik mn eerste stage </s> <s> wie komen er vanavond ? </s> <s> 15 bij martje en hans hun wedstrijdddddd </s> <s> nee zuid . maar ze was ook niet uit , je hebt echt geen zin om nog ff door </s> <s> ben volgende week donderdag ! </s> <s> hoe heet die fissa </s> <s> je mag niet ijskoud zijn </s> <s> ik kan ze helaas altijd </s> <s> ja , sowieso een paar jaar geleden dat ik gister heb gestuurd 😅 </s> <s> maar hijs wel een ticket over mocht iemand iets schreeuwen over amsterdam dus ik heb ff inspiratie nodig </s> <s> woooow dat is net een mail verstuurd </s> <s> als zij t niet tot hoe laat je hoooorrreehh ! ! ! </s> <s> moet je gewoon een snack doen joh , rond 6 </s> <s> bloed gaat koken ik heb al een etentje </s> <s> jaaa graag dan ! </s> <s> ik ben erbij </s> <s> geen zin meer in adatp </s> <s> snap m niet meer heel veel uit . je slaapt er soms , ze had altijd al een plan te maken heeft maar denk t niet aan mij . inge heeft ook een keer per maand </s> <s> was ney wildplassen met mn collega gaat van bbqen naar fissa </s> <s> volgens mij niet redden sorry ! </s> <s> iedereen is richting onze osso </s> <s> het was </s> <s> ik probeerde 't wel ff 1 van mn vrienden , maar niet tegen 😡😡😡 </s> <s> ik ben nu willem de zwijgerlaan </s> <s> maar hij gaat nu naar leidse </s> <s> yo nicu ik ga wel ff he </s> <s> wist ie wel mee 🤔 </s> <s> ward en ik gaan even borrelen bij broker lekker </s> <s> als jullie met goeie winst terug </s> <s> eerst lunch tot 3 uur gwn inna di nyx </s> <s> waarom duurde het wel wat leuks van 😊 </s> <s> loopt elke avond heftig af </s> <s> oh nee ik had gezegd nr lowlands te gaan als je dat makkelijker vindt </s> <s> wel in </s> <s> is echt hard tho leev , we hebben nog wat anders </s> <s> de gate is altijd nog bijwerken </s> <s> maar 750 is wel chill om sportkleding aan te geven aan 15 jarige jongens </s> <s> `` mensen in hun systeem </s> <s> met optie 2 ga ik misschien ook aanschuiven voor een week ? zit deze week </s> <s> strafwerk s normaal regulier al twee hele dingen gezegd vandaag hoor </s> <s> rox en sha zou eerst op die winst </s> <s> ja ik maak over </s> <s> of haalt ie t nof doet </s> <s> oh woow is maar 1 bank plek </s> <s> ik heb alleen gister in hotel getapt </s> <s> oooh dat is om dat het er van overtuigt zijn dat het nog doet </s> <s> ja ik wil echt ron blauw </s> <s> nicu can you fuck shit up at broker </s> <s> 15 bij rai , dan is die helemaal af ? gewoon barretje bij ocean diva , 10tje per uur krijgen ? </s> <s> ga je erheen ging </s> <s> zieke botsing met de app </s> <s> ik haal zon hema ding ff </s> <s> ik had het niet kyenna </s> <s> weeet iemand waar ik zit bij clau op kantoor @ 31622716652 clau ik doe </s> <s> maar kon het echt leuk en goedkoop om cadeau als bedankje te geven </s> <s> ja maar zr hadden ook lsd op toch </s> <s> nicu wordt de after ecjt kk lit </s> <s> ik pitten nu , tot straks </s> <s> jongens scroll ff kleine picie terug is belangrijk </s> <s> en verandering is ook een bal ✅ </s> <s> sumo zat hier eerst geloof ik </s> <s> ahahah sorry oke ik vraag salina straks wel </s> <s> nou ik sprak lesley net </s> <s> waarom moet ik doen ! </s> <s> wil even terug naar de decathlon dus als je uit huis alles gaat mis </s> <s> doe dat pls want dan kan deze nu werkelijkheid worden ! </s> <s> korte bocht voor lange </s> <s> ben benieuwd hoe je dit </s> <s> mis is i wel rijk </s> <s> je komt maar langs hoor 😏😏😏😏 </s> <s> heeft iemand toevallig vriendenlink or nah ? want dan heb je dat doen </s> <s> hoe was t ? </s> <s> volgens mij </s> <s> maar wil gewoon tapas en sangria </s> <s> mag ik ook van eten bestellen ? </s> <s> daarom zeiden ze welke week toch hahahah </s> <s> als je hem al binnen een uur te vroeg in de groep verlaten </s> <s> ik denk dat het naar het westen </s> <s> o ik zit op wdka </s> <s> ja , maar het ligt op de tugela </s> <s> jongens thuishaven zet als ze dr niet zeggen `` wakka marktkantine '' ahhahaa </s> <s> ik zit met een chick . samen huis gekocht en baby plannen </s> <s> wie gaat nog over ? overkopen voor normale prijs en dan naar de koffieschenkerij </s> <s> mn geheugen is hierdoor al 3 keer ? </s> <s> zou echt exact hetzelfde reageren </s> <s> jer hoe lang hij berichten sturen </s> <s> uh ik ga ff snel n burger chappe </s> <s> why moet je ook ? </s> <s> iemand mee ! ? </s> <s> ja want ik heb ruimbagage dus ik kom ook wel in een psychische </s> <s> michelle van bobo wgt ? ? ? </s> <s> wil met mij om 9 </s> <s> ‎jerry van veen heeft het onderwerp gewijzigd naar “ amsterdams verbond 🔥d c ” </s> <s> korte bocht voor lange </s> <s> en verhaallijnen die moeten samenkomen kk goed geregeld is </s> <s> `` ook wel willen gaan </s> <s> ik ga alleen als je in de min </s> <s> ik lig lekker thuis eten </s> <s> volgens mij ook voor een donnie </s> <s> ja , ga zo ff voor 1 persoon aanmelden </s> <s> _deze link is geldig t/m 23 oktober_ </s> <s> lag die op werk zijn 😢 dus wordt m niet ofz vind m gewoon omg lets go smart , word alleen maar foute hitjes </s> <s> ik haal nu sapiens en die laat je horeeennn </s> <s> maar 2 dagen achter elkaar kan tappen en evt zou kunnen herinneren ? </s> <s> lijkt er op dit moment </s> <s> ai bel me even helemaal resetten . ff nieuwe ios opdownloaden en dan ga ik op de fissa dan ? </s> <s> kil kan me het niet zeker.. vraag t ecen </s> <s> bel me anders als je je oortjes in/uit doen </s> <s> krijgen jullie met goeie grafische skills die een track opgenomen met yung waggletta </s> <s> ik twerk nog liever op leiden cs </s> <s> ik moet hockeyen de dag dat k weet dat ze amazing zeiden he </s> <s> wat is het niet gewend dat ik gewoon n gram </s> <s> maar heb geen verkleed shit </s> <s> wat ga jij dat in appie ? </s> <s> hahahahahha ja ! ! </s> <s> iedereen die wilt gwn en splitten we de metro </s> <s> net game of thrones 😱 </s> <s> whee werken tot 1800 </s> <s> ik ga her nu kk brak </s> <s> shaif moet nu halen voor je dat niet lukt ben ik kwijtgeraakt tussen de soos haha help </s> <s> dat ijs in mn leven al faya </s> <s> ik rij wel ben nuchterobvs </s> <s> kheb die oude noot gezien </s> <s> ben bang dat we beter ergens anders 😭 </s> <s> thanks jer , precies het zelfde dacht ik gister niet appa genoeg was , duh </s> <s> lol ze hebben t echt leuk </s> <s> bij mij 😒 </s> <s> weer niet nr rotterdam willen </s> <s> ben runner in een trailer waarvan k n stukje zag </s> <s> ik kom zeker niet opvallend dit </s> <s> zouden jullie even je boekingsnummer nodig </s> <s> we hebben echt een geweldige eerste week juli zegt ritch </s> <s> 00 ! ! </s> <s> i need you in life </s> <s> ze zijn kk leip daar man </s> <s> wil je of niet </s> <s> waarschijnlijk helemaal in je pan </s> <s> ik ben zo klaar hier kyen </s> <s> ook niet ? </s> <s> jongens ik ga mee als je een ticket wttf </s> <s> is sowieso top ook </s> <s> naast mijzelf ken ik één persoon die net zo erg </s> <s> dus wie nog uurtje broker wilt chillen </s> <s> ‎milan van der gehad </s> <s> dat bestaat nietmeer . het is niet kelmo haha </s> <s> en die chick die achter de laptop met een unibrow hebt </s> <s> ga je weer cool </s> <s> ik ben t aan mij denken aan deze tune </s> <s> ga echt slecht idee </s> <s> ik ga pitten in vliegtuig </s> <s> als ze je nog zandbak ofwa </s> <s> mn achillespees is gescheurd 😩 </s> <s> net op </s> <s> maar je ziet me wel ff proosten </s> <s> k moest vorige keer voegde hij `` goc '' toe aan t werk dus moet pieken in het volkshotel komen opladen </s> <s> picca or it did n't stop me last week maar oke </s> <s> sws meeten in die nasleep </s> <s> dus we gaan toch nog 50 % </s> <s> of gewoon na 12e naar broker als je altijd zo melig als je voor de deur uit </s> <s> oh nee vrouwen die werken in n club zonder alcohol drinken niets meer kan ik het nog niet ready voor bbq ? </s> <s> hij moet sowieso morgen langs </s> <s> ben je bezig </s> <s> kom je daar nu geen ruimbegage bij boeken </s> <s> sluit lijst om 16 ahahahhaha </s> <s> ja , maar handwasje doen kan altijd lijkt me sterk </s> <s> is gewoon fucked up </s> <s> zal wel 10 werkdagen zijn </s> <s> en is gewoon ff mn biertje op en word ik weer wifi heb </s> <s> mensen betalen 300 euro voor 0,8 oplichteerrrr </s> <s> wel deze maand niet gezien op aww , door tent.. luchtbed.. dan nog chille </s> <s> hier hadden we toch maar frikandel </s> <s> welk ticket hebben jullie niet zeggen </s> <s> ik kan gwn zo moven </s> <s> bij mij thuis </s> <s> deze venue is kanker onduidelijk </s> <s> ik kom uit ally , ben namelijk ook wel </s> <s> ze was al boos op clau sinds dat weekend </s> <s> we hebben echt min 3 draaidagen pw </s> <s> wij gaan zo wat vrij voor 1 keer ... .. </s> <s> die oranje contouring fokt het een verstandige keuze ? </s> <s> met die namen anders , wie gaan er nog iemand kent die n kaartje vrijkomt kan je het gefixt hebt </s> <s> daarna waggie en daarna echt kkkk hard de positie die ik kan iedereen mij de beamer installeren </s> <s> woensdag +10 en zondag pik </s> <s> jules jasper jorn daimy en max </s> <s> maar ik moet nog even goed avondje gjezelligheid </s> <s> komen jullie nog bij postkantoor ) </s> <s> maar yamazato is echt een kk tijd idd </s> <s> die achter de laptop met een van de week denk ik </s> <s> yo je kan zo zijn dat even belangrijke weken ? '' </s> <s> dat bieden ze niet voor me op id tram vanaf spui </s> <s> haha geskipt worden is kk rustig / die app werkt pas op t standaard zetten ? </s> <s> kijk , dat jullie niet ook </s> <s> have fun babes ! ! ik ga nu douchen enzo </s> <s> hoe chillt aron in een soort crowdfunding gestart om je eigen risico staat </s> <s> oke ik ga eht andere matties </s> <s> ticket klear is even duur maar ron was echt super aanraad en wat trainen ? </s> <s> ik ben er sowieso laat </s> <s> kk domme chat hierboven jezus ahahaa </s> <s> kom ik ook zo gefixt </s> <s> kk gezellig ! </s> <s> ik haal 1 pak ! </s> <s> nee ik weet niet wie er nu al steken in zijn rugtas ? </s> <s> loyal maar lag allaaaaang te tukken </s> <s> ja kill jij gaat sowieso matten dan </s> <s> ik zie niet alles schatje . alles behalve de gene die me chanten vanavond </s> <s> is iemand op hva </s> <s> ja de rest van de zaal zitten </s> <s> we hebben niet eens komen groeten </s> <s> of was ik het gemist heb maar 260 aan verblijf en vlucht gespend </s> <s> en ja k zag idd wel cute tho😍 </s> <s> kan iemand opendoen sta beneden @ 31611534403 @ 31634734350 @ kimbuitendegroep </s> <s> vertrouw dais dr mening sowieso niet kunnen herinneren hoe dat uit de diepvries </s> <s> moet alleen weten wat t serienummer van die kkr app </s> <s> weten jullie vriendinnen die in iedergeval een paar bankoes in mn achterzak zit </s> <s> en als ik hier weg ga </s> <s> ik laad nu op tv </s> <s> vriendin heeft me dood als ik thuis ben rond 5/half 6 klaar </s> <s> wie gaan er vanaaf naar de havelaar </s> <s> alleen kanker lange rijen zweefmolen en theaters </s> <s> ik zie het voor elkaar hoor ❤ </s> <s> nee wij zijn bij hun </s> <s> ja ik had het niet eens </s> <s> ewa kk veel de laatste dagen ) </s> <s> ik heb maybe een kamer vrij voor jullie bedoeld zijn </s> <s> ja ik meen het </s> <s> maar 60 of 65 is toch juist leuk , enigszins goed betaald werk voor was niet genoeg dus voel je niet beetje meevloggen </s> <s> kankwr vwo niveau 400 pagina 's </s> <s> wat doe je die sos van 50 en sos van 60 echt heel zuur van alle prijzen van drugs </s> <s> ze maken er echt mee gaan morgen rollende keukens ! </s> <s> haha geen idee fiets nu naar huis '' </s> <s> wie zijn er in het groepje </s> <s> ik kan niet vroeg komen </s> <s> ik ben na de update </s> <s> ze komt pas om 50 </s> <s> en dan bestje ne links in t weekend fok bootparty en of hockey miss moet je ff persoonlijk hierover , geloof dat ik nog wel in drie verschillende clubs ben geweest was het zo geescaleerd is </s> <s> martje heeft echt geen enkel detail onduidelijk </s> <s> ik heb mijne niet meer voor mn stage naar amc ! @ 31628317741 @ 31634734350 </s> <s> ik ben ook echt gaan doen lol </s> <s> wie gaan allemaal museumnacht ? </s> <s> en die verhaaltjes op de grond pakken </s> <s> we gaan </s> <s> hij moet eerst nog helemaal nr belgiëpleon lopen </s> <s> helemaal uitgespeeld . ben trots op je </s> <s> hahahaha nee , echt beter niet morgen weer moet werken daarna haha </s> <s> ik sta ee over 5 hè , anders zijn dan de haltevliegtuig is nog niet maar zh m </s> <s> idk , zal ik bellen dat er een eind ? </s> <s> ik buy t wel </s> <s> sop gina tessa met zn alle doen </s> <s> en de weg wijzen </s> <s> we hebben nog wat spullen inpakken </s> <s> daisy waar ben je vandaag niet eens onbeperkt internet , kan maar tot 50gb </s> <s> vrijdag 4 is priem </s> <s> ben donderdag vrijdag lekker vrij </s> <s> jap is geen manager meer </s> <s> zou best ghb/gbl kunnen zijn alleen shaif , bo , gina en ik krijg vandaag 'je mail is vertraagd , we hebben nog ff checken </s> <s> sasha en amy kijken ajax </s> <s> je bent bijna jarig </s> <s> yoo zijn er nou polaroids van me pa eigenlijk </s> <s> ik ga , moet morgen ochtend wel even bevestigen of iemand kan rijden , kan er nog mensen die ik kan ook een beugel </s> <s> kyenna ik stap met liefde in de snapchatgroep willen </s> <s> whales be ready for beckies </s> <s> heb je nog ? </s> <s> wat is t daar boys ? </s> <s> hahahaha ja ik zie dit niet eerder nr salon b zijn gegaan </s> <s> rox heb jij die gimma niet </s> <s> ja kwil ook wel benieuwd </s> <s> en dan kk hard ouwe zeker nog nodig </s> <s> gaat r iemand pubquiz 🤔 </s> <s> rox en rowy ( wls k t goed is </s> <s> dip ? ? ? ? </s> <s> ja ik ga denk ik nasiballen uit de frituur </s> <s> maar jij reageert dan echt alles weg '' - verbaast dit me een beetje op idk </s> <s> echt een shocker </s> <s> en @ 31634734350 </s> <s> die anderenkunnen ritcht en daisy zien </s> <s> ja ven al id appie </s> <s> krijgen we dat doen eigenlijk </s> <s> moeten we er in de up </s> <s> ben wel in a'dam rond die tijd </s> <s> deze man gebruitk een koevoet </s> <s> weet nog dat ik kan m niet </s> <s> tot hoe laat @ 31634070190 @ 31647855621 @ 31621103613 </s> <s> hoelaat moven jullie die kant op </s> <s> hij had gebeld dat hij er zelf niet halen </s> <s> eechts vooraan bij de karaoke man vind me daar </s> <s> maar die moet lenen </s> <s> meeten bij es zn nummer ? </s> <s> ‎sophie woltering heeft de groep gaat weer challa </s> <s> dacht dat alleen shaif , nicu moet donderdag gewoon half 9 werken </s> <s> ja dan tractor paard auto </s> <s> gaan we ceuvel ? </s> <s> kijk hier wil ik wel , maar weet dus totaal niet appa genoeg was </s> <s> maar heb wel gewoon jurkje life i guess </s> <s> je bent al bae als je verder echt niks aan kostuum maar skip de zonnebank voor een stripper open gaat doen </s> <s> ik vind dit echt halen . </s> <s> succes , is best rustig </s> <s> dan kan je les ff toevoegen </s> <s> word leuk guys ! ! </s> <s> ik was </s> <s> ik zou kkkkk bad gaan , zondag overdag even aoa checken als iemand met mij wil lenen als die echt wil dezn </s> <s> dat je vrienden </s> <s> ik kijk nu via youtube afl 1 , check ! </s> <s> en rox al gedaan ? </s> <s> ja doe maar ff langs dan </s> <s> dit is al terug gevonden ? </s> <s> naar west fietsen > was > naar roest </s> <s> zijn we de totale kosten </s> <s> die andere kk boot </s> <s> dat wordt beetje rennen tussen fatima en sadar </s> <s> i even like my men kaas </s> <s> ooh is natuurlijk milan bakket </s> <s> is geen vodka voor nakkie en mij naar it morgen </s> <s> gewoon rustig 3 in van school vanaf februari maar heb daar een dooi bedrijf </s> <s> hahah jij volgt zeker het gesprek </s> <s> mike en doun zijn mee </s> <s> probeer nu mensen te zoeken die voor 25 euries </s> <s> fietsen in dit weer naar osdorp vind ik ook tsvpen </s> <s> it 's true , ritme en tijd gegeven met m'n ouders bij bakermat ... ... .. </s> <s> hahahaha nee , vroeg het echt </s> <s> dat klinkt als een chick gefixt </s> <s> wil opzich wel wat leuks in amsterdam gaan wonen </s> <s> hee , even een drankje komen doen en dat drinks on me vergeet ik nooit echt vollop en festival </s> <s> ik heb gelukkig een goedkopere paperback kunnen vinden </s> <s> idee was goed uitvoering iets minder </s> <s> van aardig en subtiel naar hard en straight </s> <s> ja ik mail ze wel ff voorschieten </s> <s> je was zo lam rox </s> <s> bday is niet ingeroosterd toch zag ik </s> <s> duurt niet zo erg met dit weer met mn bestuur </s> <s> straks gooi ik weer op 0 % </s> <s> laatste keer dat ik het kaartje met je shoppen 😡 </s> <s> laatste keer dat ze helemaal niet op so # fail </s> <s> @ 31634734350 @ 31634070190 </s> <s> ben t vergeten </s> <s> dat klinkt misschien wel mee </s> <s> wies die guy rechts naast wesley </s> <s> moet zelf koken toch haha </s> <s> joinen mensen naar bitterzoet vanavond ? </s> <s> that 's what he said </s> <s> heb never geld voor wintersport </s> <s> maar meteen allemaal passe partout kopen ? </s> <s> echt roze en wit hoor </s> <s> hahaha jij durft milan niet te zeggen van yo sorry miss heb je die deuren binnen loopt is t rooster van all we want er al ? </s> <s> vorwat heb je die tickets van ons gemaild </s> <s> of de 2e week erna </s> <s> weinig verschil met normaal leven vandaag laat staan een psycho </s> <s> annabelle is ook te kort 😭 </s> <s> later mailde ze dat goed haha </s> <s> kil wil je me €2,00 betalen voor 'sossie drie man ' via </s> <s> wow kent iemand quilla ? </s> <s> is op festivals en terrassenfestival etc </s> <s> ik moet werken toch tot 3 </s> <s> haha wow ? ? ? ! </s> <s> nee daar vroeg ik zelf </s> <s> probeer zondag 25 juni even vrij te fixen voor aankomende week want ben kk hard opgesnoven </s> <s> aron welk nummer is t geld terug </s> <s> ja kyen en aron </s> <s> en anders kon je ook niet btw 😭😭😩 </s> <s> ja maar ik ga werken </s> <s> nee @ 31640207588 @ 31645192806 blijf jij eig nog naar de vriendschap </s> <s> ja ik weet het nog niet helemaal compleet </s> <s> kom mr wcs achter main </s> <s> die `` gooi een xtc pil erin '' oplossing hier vandaan </s> <s> maar we zijn nog ff assie roken </s> <s> van de grootste concurrenten van facebookp </s> <s> daarnaast heb ik geen kastje nodig </s> <s> @ 31622716652 </s> <s> ‎kyenna kemper heeft de groep , eventueel kunnen we ter plekke moet kunnen </s> <s> oke is cool , thanks ! </s> <s> het eerste wat die zegt ; ''kom lepeltje lepeltje </s> <s> sophie milzink moet uit een boek </s> <s> is wel kk affoe lopen in de aanbieding . lijkt me ineens heel biased </s> <s> heb jij een bbq </s> <s> wat doe ik gewoon fleechedekentjes mee man </s> <s> pls zeg in de trein vanaf cs liep </s> <s> hopen dat ik sowieso al verdwaalt in het midden staat </s> <s> jer je kan en hoelang je er jer ? ? ? ? </s> <s> moet nog make up op 😭😭 </s> <s> en ben mn ov kwijt en band is lek </s> <s> echt de beugel </s> <s> laatst bestelde iemand n biertje , ik zie n dank boven je hoofd kyen haha </s> <s> oh ik snapte er ook gewoon opgeburned worden gep </s> <s> hebben jullie al naar by the creek </s> <s> oh ik wil ook nog een keer besproken op maandag </s> <s> kan iemand mij ff prive </s> <s> gewoon 1 dag in de broker en feestje in broker dus kan t leven zonder je vader '' en voooorallll mn broer ook op en wordt er nog een dikke boete geven </s> <s> jullie zijn weg </s> <s> die echte werkt zoveel beter uit ! </s> <s> + doekoe echt kk moe van hem komt ? </s> <s> jongeren in contact ermee brengen , iemand mee ? </s> <s> jerry en jij moet anderhalf </s> <s> ja , wordt er uitgezet </s> <s> huh ben ik wel toch ? </s> <s> hijs gwn terug gegaan naar hoe die zich geroepen om te winnen </s> <s> het is duidelijk </s> <s> is claudia miss enige hoop </s> <s> zei die dat bij mij ? ? ? </s> <s> ik hoor hele tijd rondgelopen met een rijbewijs ja 😂😂 </s> <s> amy heeft me niet meer mocht tappen haha </s> <s> ja maar die aubergine is ook wel </s> <s> 00 maar moet ik me voel </s> <s> jongens mn team </s> <s> @ 31621103613 </s> <s> did you miss that </s> <s> recht door gaat </s> <s> maar join je ceuvel ? </s> <s> she bout the cut his pipi </s> <s> - neem je mn tent moet opruimen😢😢 </s> <s> ahah ik vind het eigenlijk wel goed </s> <s> we gaan in bed </s> <s> @ 31634070190 @ 31621103613 @ 31649962096 cocaine ? ? ? ? </s> <s> nee t zijn 3 generaties </s> <s> ik ben eigenlijk zo kk druk </s> <s> is in a'dam rond die tijd </s> <s> @ 31616474656 eigenlijk </s> <s> en me voet is nu opzoek naar n rayban store gaan </s> <s> ben je ? </s> <s> t gaat gwn nog studie </s> <s> dus drie gram halen ? ) </s> <s> oh wat intens kut moet dat zijn mensen nog wel uit ally </s> <s> dus laat ze het niet zo heel fa2 </s> <s> heb al kaartje voor klear . mocht iemand zich geroepen voely met aron gebeurd </s> <s> als je onderweg bent </s> <s> volgende week </s> <s> miss peregrine 's home for peculiar children absoluut wel kijken </s> <s> gien doen wij anders samen ? </s> <s> je komt toch wel daar meet , ga ik dood goings </s> <s> ze zit echt in mn badje gepist had </s> <s> ik ben met les ff langs n supermercado </s> <s> bloed gaat koken ik heb sws ook nog tappen eigenlijk </s> <s> wow die chick gehoord eerlijk gezegd </s> <s> zoek de naakte mannetjes daar </s> <s> weekendje nyc is echt te lang al aant afteren zijn . </s> <s> @ 31611534403 </s> <s> als je geen werk vandaag ? </s> <s> uhh ja opzich , maar maybe kent ze iemand anders </s> <s> maar werd er spontaan emotioneel van </s> <s> 5 verdiepingen club die kk koelkasten in </s> <s> ben on my way ! </s> <s> ze weten gelijk hoe laat bij jou clau ? </s> <s> ik lig lekker thuis eten en dan hebben we het over woensdag ging </s> <s> als je niet nak </s> <s> als ze vijgenjam hebben voor de fotoshoot ; ) </s> <s> lekker naar een club waar ik echt geen barhoofd worden ouwe </s> <s> ja sorry was bij mn tante eten </s> <s> ben nog steeds niemand over wie het gaat niet meer </s> <s> daarna afterparty op t einde vd week is goed ! let me </s> <s> ask ni vroeg op most was k daar </s> <s> had je dat ? door een atm </s> <s> ja en toen wel '' `` opzich '' </s> <s> wie is zoë ookal weer kyen </s> <s> van wie er allemaal voor apex bij all we want </s> <s> en suite als in fissa </s> <s> @ 31628317741 wzj </s> <s> that moment u realize you niet zo een tjappie die goedkoop fietsen verkoopt </s> <s> kk moeilijk blijven staan met de noorderzon verdwenen </s> <s> gewoon lekker fleechedekentjes meenemen </s> <s> ik weet ik niet veel tijd om te werken ouwe </s> <s> nee , ik ga m nu gevonden , nvm😂 </s> <s> ik als je net komt aankopen </s> <s> iemand die verstand heeft van kapsalons </s> <s> is dan is het lammy van binnen ? </s> <s> van nappen in de onplezierige manier van lezers trekken idd </s> <s> ik ben aan </s> <s> enige toegang die ik al je voorkeuren enzo en dingen waar hij allergisch voor was niet voor je kijken </s> <s> ja idk dan moesten jullie dr helpen of dr andere vrienden maar die kleuren zijn wel intens </s> <s> ik ben alleen maar dudes </s> <s> iemand die moet toch werken ? </s> <s> iedereen verder 6 oktobervrjj houden </s> <s> hahah why , is 1 tand scheef gaan staan </s> <s> iemand die graag wilden gaan </s> <s> soph waar is guy ? 😏😏😏 </s> <s> moet je snel gaat zit je </s> <s> en ik hebben hem gered hoor </s> <s> true . je kan t morgen vrage dan is aars de volgende </s> <s> was ook echt niet chill om zelf te moeten </s> <s> rox en rowy ( wls k t wel gezellig </s> <s> dus kan maybe wel erna ff piepen </s> <s> dus 1 en al gebarfd </s> <s> en ik gaan binnenkort ook dagje walibi plannen </s> <s> wordt echt helemaal leeg was </s> <s> wat had je nog mee gaat naar t zelfde willen samen gaan eerst </s> <s> wie is loyal bedoelde ik </s> <s> turk die roept `` nederland lekker land ! ! ! </s> <s> en durf niet meer in </s> <s> naar de vriendschap </s> <s> die heeft ook ander tentamen dan ik </s> <s> misschien maar eens vroeg slapen </s> <s> 'amsterdams verbond ' de tv-show </s> <s> maar kon werken </s> <s> wat moet je trouwens zwart dragen ? </s> <s> oh dat is kk veel zuipen een black-out </s> <s> hoe is het nu doet overkomen haha , dat is beetje het zure </s> <s> kruidvat hadden ze dus die hoeft niemand meer bereiken omdat zn pokkie heeft een wifey nu </s> <s> ik en haar vriendin hebben mij helemaal opgefucked ouwe . ik vind schrijven wel wat van gezien </s> <s> kzie les om 2300 ergens in de vorm van vrije tijd dus ga er echt af hoe lang deze hype gaat duren </s> <s> jer kreeg je nou doen ? stoppen met drinken ? </s> <s> ja maybe beter , kunnen sowieso maar 3 minuten van mn ma </s> <s> ja ! ! </s> <s> yes moet om 1900 al werken </s> <s> hahahahah zie je morgen wel wat er gebeurt als wij er ook gewoon opgeburned worden gep </s> <s> hahahaha fien ? ? </s> <s> kanniemand een trui tegen kwam die zo seed </s> <s> hoelaat springen ? ? ? ? ? ? ? ? </s> <s> ik moest he eigelijk helpen </s> <s> ik ben er met clau maandag in cafe de paris </s> <s> weet iemand of ik ben onderweg er naar goede doelen gaat </s> <s> dus dan maken ze amper winst of iets </s> <s> dont we all 🥀 </s> <s> heb even voor jullie lol </s> <s> ja , kill . ik regel waggie </s> <s> ja echt stelletje amateurs daar </s> <s> 00 om dan open te blijven </s> <s> omgomgomg is this even real '' </s> <s> vooral als broker morgen uiteten wil ipv bbqen @ 31621103613 @ 31647855621 join ! ontslagen of niet haha , kan toch dat ze amazing zeiden he </s> <s> app elkaar ff lekker ff partay </s> <s> als iedereen die gaat </s> <s> ik zit morgen op sp maar heb gevraagd of ik vrijdag dan meteen doekoe krijg dan ben ik kwijtgeraakt tussen de deur bij ons </s> <s> dat heb je gevochten ? ? </s> <s> date wil k zo heen </s> <s> dag 1 sta je </s> <s> wzj ? ? ? ? ? ? ? ? ? ? </s> <s> zal ik bellen dat er een programma over homosapiens </s> <s> hahahah nee dat niet altijd met halloween </s> <s> zie je me €60,00 betalen voor 'taxi ' via </s> <s> hier in noord ? ja als ik straks met me wil chillen </s> <s> hahahaha @ 31634070190 @ 31621103613 hahahahaha noemde daan je gister arie </s> <s> als dat je in de school </s> <s> half 4 wel ? </s> <s> @ 31649962096 ? </s> <s> heb ik verdiend want heb 1 en dan januari tot maart </s> <s> schijnt de zon in ? </s> <s> wow ik denk dat hij hier ook nog een sessie toch </s> <s> om te zeggen </s> <s> we wren er wel in voor dolly met rox </s> <s> shaif wilt voor 12 bij spphie te zijn ? </s> <s> @ 31621103613 dank you ! </s> <s> begint die ineens gewoon tussen allemaal mensen te gooien </s> <s> ik ga cass dr snaps ook kijken </s> <s> heb geen een tussenuur </s> <s> jongens , daisy stikes again . dacht weer een fissa </s> <s> ik kom er nu aaan </s> <s> begin n leipe keelontsteking te krijgen , dan inderdaad kk goed geregeld is </s> <s> clau en ik krijg sowieso een paar jaar geleden dat ik uur van te voren er betm kan je me €25,00 betalen voor 'pizza after ' via </s> <s> haha nee kan echt niks aan </s> <s> hahahaha ik had die shit mee voor je informeren ? </s> <s> oke , vroeg het gewoon verkeerd is gevallen ofzo </s> <s> waar ga je met aron chillen nu hoor </s> <s> @ 31626485410 wbj lkkr ding </s> <s> is een dingetje </s> <s> plus t is weer aan het varen </s> <s> can you teach me some </s> <s> heb ik de hele dag gepit ouwe this life </s> <s> haha kan liever elke week doen </s> <s> ja waaaaaar ? 8- ) </s> <s> jongens loop de zeedijk op lopen </s> <s> ik ben ineens in die eerstejaars stress zit van punten halen anders ? </s> <s> heb wel eens zo'n reeks van gebeurtenisse . dat je er half9 clau </s> <s> missed you big time kinder </s> <s> vorig jaar was het een zogeheten `` deadlock '' </s> <s> hoe doe je die symtomen niet </s> <s> hahahahahaha @ 31628601221 @ 31628317741 @ 31653280956 @ 31640025247 </s> <s> jaa ik had al hele mis op </s> <s> we gaan </s> <s> nou kan ik bij een van jullie blijheid ❤ </s> <s> nee je moest eens weten </s> <s> i like this day . </s> <s> jammer dat je nu nog dockyard </s> <s> als jullie vnv nog op schrijven or not </s> <s> was echt hard </s> <s> ik zit in de dropbox ? </s> <s> bel me over n half uur jarig en word ik mental </s> <s> of niet , maar heb echt een jongere versie van jou ook door uitzenden </s> <s> ben je wss minder kwijt pm </s> <s> wij komen pas later op de radio heeft gebeld </s> <s> zin . nog meer dingen kwijt </s> <s> noiuyy ik wil t niet he </s> <s> kk jammer van de appie </s> <s> @ 31614140733 @ 31653280956 wij twee jaar geleden nog vrijwillig schoonmaken op maandag ochtend op straat haha </s> <s> kwart voor 7 richting museum </s> <s> ik wil je je oplader meenemen </s> <s> rox je viel ook de hele avond alleen was haha </s> <s> je voelt 1tje meestal niet goed af </s> <s> moest sha wel overhalen om niet uit te leggen </s> <s> hahaha wie heeft een half uur jarig en vier t ook vaker gezegd dat ze het heeft gevolgen voor mijn kinderen . ik ga nu naar jullie dan </s> <s> wat is dit serieus die chick zei als je hem niet vinden in haar tent </s> <s> ja ? ? </s> <s> @ 31649962096 kunnen jullie sigaretten voor mij ❤ </s> <s> of hem nu kk brak </s> <s> want kvoel t echt haha </s> <s> ik wil die boom in t spel </s> <s> je gaat stalken </s> <s> voor minder krijg je random na 4 uur gaat het ook ? mn vriezer is dichtgevroren dus kan erna niet nr rotterdam willen </s> <s> hoe je t gewoon van 6 tot 9 moet </s> <s> kim wel , mc moet werken kom ik nog altijd om me heen altijd , studie met 30 klasgenoten een familie bday , presentatie oefenen </s> <s> iemand down met me appen </s> <s> hij was echt dom </s> <s> is dat rode wijn met ijs rosé is </s> <s> die gaan wel alleen als er geen appartement boven broker wat je bedoelt zekker niet die x niet zo veel zin voor mij ? stuur even tikkie voor t kopen van een maat van me maken </s> <s> oke mom er nu aan </s> <s> maar ze is wel echt naast knijn </s> <s> mag niet lachen jongens het is </s> <s> begin n leipe keelontsteking te krijgen </s> <s> moest eigenlijk alleen wat duurder.. </s> <s> als hij echt zo slecht ? </s> <s> ja volgend jaar pas payen , kan toch dat ze morgen ineens daar </s> <s> en dan 12 gaat de bbq aan ? </s> <s> uh ik heb bijna niks gegeten vandaah </s> <s> ‎hans agtereek is deelnemer geworden via de officiële site maar kan wel leuk om te zwemmen </s> <s> welkom 100 nieuwe berichten ; p </s> <s> ik snap t niet </s> <s> maakt me dedde </s> <s> ben er zelf ook behoorlijk lammie 🐑🐑🐑🐑🐑🐑🐑 </s> <s> wij staan in de aanbieding </s> <s> kil niet iets anders </s> <s> wie gaat morgen naar rotterdam te rijden ? </s> <s> stuur er maar 7 per baan ) </s> <s> kk slecht </s> <s> is niet zo goed </s> <s> ik zocht nog een printer </s> <s> wist niet dat het overdag was </s> <s> haha ze bedoelt dat niet elke dag basically </s> <s> waar draaien ooz en jea </s> <s> ben destijds echt vrij snel gestopt met 4fmp </s> <s> dus moet ef checken of dat een ding zijn </s> <s> wil echt weer ff mn beschikbaarheid invullen denk ik </s> <s> ik vond het ook echt moest doen </s> <s> ja kan vragen of ze goeie salades op die vraag is zijn jullie lost </s> <s> k loop wel even een shout outje hoor es ! </s> <s> wat is er lijst voor verknipt ? </s> <s> - meerdere , recente en duidelijke foto 's waarin die is getagd </s> <s> always late , aureliano en sha hebben gedronken </s> <s> ik ben echt beetje geshockeerd </s> <s> bvb heb je gedaan </s> <s> zeggen jullie maar ik vind deze line van je mac daarop gezet </s> <s> mn ondergebit is ook iets van 40 dagen zonder seks van die rave petjes </s> <s> ik wacht ff tot oktober dat de wereld </s> <s> ik ben nu al aan zichzelf te twijfelen en shit </s> <s> ik join wel voor je </s> <s> 1. jullie gaan kk laat eten </s> <s> * closing whatsapp and kruiping dieper back in town </s> <s> ik wil echt niet meer kan herinneren . uitgaande telefoongesprekken naar mensen die niet veel van kan leren </s> <s> moet anders naar mn uitgaves deze week *pointing at head* </s> <s> moet om 2 uur te vroeg op </s> <s> dan bel ik dana wel </s> <s> vond die in die tijden </s> <s> over uit wat die emoji precies zegt.. </s> <s> hoe laat ga je nu al op aan der snaps </s> <s> het waait kkkkkk hard </s> <s> gwn lekker veel seksen vooral </s> <s> had je toch niet erg </s> <s> heb er inmiddels al 2 gekocht </s> <s> beugel is echt dik worden😢 </s> <s> whee werken tot 2 </s> <s> lol k dacht beter osso </s> <s> had t laatst nog langs </s> <s> en gaan ergens zitten in een random woord als je iets besteld ? </s> <s> maar dat zegt ie helemaal niet tegen drugs vinden het allemaal wel niet gedaan hebt . dan in ny </s> <s> groetjes van jelle en mij drankje doen straks </s> <s> hij zit denk ik naar huis nodig hebben zo vanaf reaktor </s> <s> ja das leuk met die kappie </s> <s> sorry ik vroeg toch ook niet of dat jij al een keer struggle mee gehad </s> <s> ja , echt kk slecht </s> <s> jongens ik wil opzich wel leuk dat wat je bedoelt die met lange kabel </s> <s> kga naar zo een zieke provi aan de kant om alle 30 te klappen </s> <s> t ging nog door volgens mij </s> <s> hoezo vond je t geld is zou chill zijn </s> <s> had iets gekocht en baby plannen </s> <s> maar wel fucking leuk </s> <s> ben jij ? </s> <s> ja en vrijdag wrlk ook </s> <s> is er met n android tellie </s> <s> maar is het hahahah </s> <s> kom jij in gedachten ? </s> <s> ik denk dat de tegenstander niet net iets andere molecuul dont als me </s> <s> @ 31634070190 @ 31645222692 haal jij twee 2cb pillies voor mij is het klaar ? </s> <s> gewoon straight `` your asshole son ! '' </s> <s> twijfel even , ben net op leidse </s> <s> zie je vanavond </s> <s> je staat bij damrak ingeschreven toch ? </s> <s> lees er allemaal nog gedaan na amsterdams verbond ” </s> <s> omdat ze de tent vorige week ook kon bij aron is er vanavond ? </s> <s> ben blij voor je </s> <s> had met die kappie </s> <s> klear is best fatoe btw </s> <s> oke dus waar gaan we naar skatecafe komen </s> <s> ff refreshen moet wel heel vet </s> <s> is je dj broken dick . </s> <s> arm breken is goed , kom je ook voor 2200 </s> <s> welke van de tijd - esteban </s> <s> ben runner in een waggie te leen ? </s> <s> ik ga t niet eerlijk gezegd </s> <s> dus , rachel en ik wil ook wel echt mega lijp verjaardagsfeest cadeau zijn </s> <s> alsnog je belt en zegt `` er staat morgen kadootje op je hoofd kyen haha </s> <s> hahahaha . thanks . bo . </s> <s> wel faya </s> <s> we zijn bij hun </s> <s> wil wel ergens een burger eten zo </s> <s> is in berlijn </s> <s> wanneer je moet sorry tegen jezelf zeggen </s> <s> haha blij dat bij salina dan </s> <s> sophie en tineke op stap </s> <s> denk dat t 12,50 per uur ? </s> <s> en mij ! </s> <s> is van die confetti in de headline </s> <s> we hebben met iemand anders hahaha </s> <s> nee nog niet </s> <s> bij moco moet je snel zijn met familiefoto 's </s> <s> want kvoel t echt leuk </s> <s> je osso in rotterdam wonen . </s> <s> maar heb wel zin om uit huis alles gaat mis </s> <s> thanks guys ! </s> <s> guys ik ben er rond half 7 ! </s> <s> jer ik heb bbq op die vraag </s> <s> echt lekker goedkoop </s> <s> ben inderdaad wel een ticket met je mosseltje </s> <s> dat als ik mag weg want moet daarna gewoon naar huis </s> <s> dees je moet toch sowieso altijd nat </s> <s> @ 31628317741 kwam je nog langs n smartshop </s> <s> en 2x op rij future </s> <s> denzel staat echt goed bij ke </s> <s> en die chick afgelopen zat gewiept ? maar hij laat al zien ? vind jij dat wel echt interessant </s> <s> aron is </s> <s> dacht al is </s> <s> alleen haten ze me een vaste barfunctie aan op slechte ideeen </s> <s> maar de rest van het jaar </s> <s> maar werd er spontaan emotioneel van </s> <s> ik was door die drama van die moeilijke vragen </s> <s> moet nog werken ? gewoon barretje bij ocean diva , 10tje per uur meer 😂 </s> <s> jij mag tenminste ax </s> <s> lesley will change , just like the weather , </s> <s> hoe ziet het eruit ziet </s> <s> i was rich before i met you </s> <s> vind het sangria en tapas weer </s> <s> t is gwn voor als ik huisje dammie heb wik ik ook via je ma thuis is </s> <s> jordan rakei is wel heel eventjes he </s> <s> volgende week vrijdag\n"
     ]
    }
   ],
   "source": [
    "print(\"Chatgram\", generate_sent(chatgram_3, 10000))"
   ]
  },
  {
   "cell_type": "markdown",
   "metadata": {},
   "source": [
    "### [Optional]\n",
    "\n",
    "For how many of the histories $w_{k-N+1}\\dots w_{k-1}$ is the number of continuations $w_n$ equal to **one**? Calculate the percentage of such cases for the different orders *N*.\n",
    "\n",
    "And which history has the **most possible continuations**?"
   ]
  },
  {
   "cell_type": "code",
   "execution_count": null,
   "metadata": {},
   "outputs": [],
   "source": [
    "### ANSWER ###"
   ]
  },
  {
   "cell_type": "markdown",
   "metadata": {},
   "source": [
    "## Excercise 2.3 (5 points)\n",
    "\n",
    "Let $V$ denote our vocabulary. Recall that for any $w$ in $V$ `bigram[w]` defines a conditional probability $p(v|w)$ over $v$ in $V$. In the case of an **unsmoothed bigram**, $p(v|w) = 0$ for most $v\\in V$, whereas in the **smoothed bigram** smoothing took care that $p(v|w) \\geq 0$ for *all* $v$.\n",
    "\n",
    "The function `plot_bigram_dist(word, bigram, smoothbigram, k=30)` plots shows $p(v|word)$ for the `k` words $v$. One bar shows the probabilities in `bigram` and one in `smoothbigram`. \n",
    "\n",
    "**(a)** Use this function to plot the distribution for at least two words `w` and answer the questions\n",
    "* What is the effect of smoothing on the bigram distribution of frequent words? \n",
    "* What is the effect in the case of infrequent words?\n",
    "* Explain the difference between the two based on the raw counts of `w` \n",
    "\n",
    "**(b)** Now experiment with $k$ much smaller than 1 (but greater than 0!) \n",
    "* What are the effects?\n",
    "\n",
    "\n",
    "**[Hint]** Remember that add-1 smoothing turns \n",
    "$$P(w_n\\mid w_{n-1}) = \\frac{C(w_{n-1}w_{n})}{C(w_{n-1})}$$\n",
    "into\n",
    "$$P_{add-1}(w_n\\mid w_{n-1}) = \\frac{C(w_{n-1}w_{n}) + 1}{C(w_{n-1}) + |V|}.$$\n",
    "\n",
    "What happens when $C(w_{n-1})$ is relatively big (similiar in of size as $ |V| $)? And what if $C(w_{n-1})$ is small? "
   ]
  },
  {
   "cell_type": "code",
   "execution_count": null,
   "metadata": {},
   "outputs": [],
   "source": [
    "import pandas as pd\n",
    "import seaborn as sns    \n",
    "\n",
    "def plot_bigram_dist(word, bigram, smoothbigram, k=30):\n",
    "    d = bigram[word]\n",
    "    ds = smoothbigram[word]\n",
    "    \n",
    "    # sort the probabilities\n",
    "    d_sort = sorted(d.items(), reverse=True, key=lambda t: t[1])[0:k]\n",
    "    ds_sort = sorted(ds.items(), reverse=True, key=lambda t: t[1])[0:k]\n",
    "    \n",
    "    _, probs = zip(*d_sort)\n",
    "    smooth_ws, smooth_probs = zip(*ds_sort)\n",
    "    \n",
    "    # make up for the fact that in the unsmoothed case  probs is generally less than k long\n",
    "    probs = probs + (0,) * (k-len(probs)) \n",
    "\n",
    "    w_data = pd.DataFrame({\"w\": smooth_ws * 2,\n",
    "                           \"P({}|w)\".format(word): probs + smooth_probs,\n",
    "                           \"smoothing\": [\"unsmoothed\"]*k + [\"smoothed\"]*k})\n",
    "    \n",
    "    fig, ax = plt.subplots(figsize=(10,10))\n",
    "    plt.xticks(rotation=90)\n",
    "    g = sns.barplot(ax=ax, x=\"w\", y=\"P({}|w)\".format(word), hue=\"smoothing\",\n",
    "                    data=w_data, palette=\"Blues_d\")    "
   ]
  },
  {
   "cell_type": "code",
   "execution_count": null,
   "metadata": {},
   "outputs": [],
   "source": [
    "## YOUR CODE HERE ##"
   ]
  },
  {
   "cell_type": "markdown",
   "metadata": {},
   "source": [
    "YOUR ANSWERS HERE"
   ]
  },
  {
   "cell_type": "markdown",
   "metadata": {},
   "source": [
    "\n",
    "**Recall** that if we have a sentence $w_1,\\dots,w_n$ we can write\n",
    "\n",
    "$$P(w_1\\dots w_n) = P(w_1)P(w_2|w_1) \\cdots P(w_i|w_1 \\dots w_{n-1}) \\approx P(w_1)P(w_2|w_1)\\cdots P(w_{N-1}|w_1\\dots w_{N-2})\\prod_{i=N}^{n} P(w_i|w_{i-(N-1)}\\dots w_{i-1})$$\n",
    "\n",
    "where in the last step we make an $N$-gram approximation of the full conditionals.\n",
    "\n",
    "For example, in the case of a bigram (N=2), the above expression reduces to\n",
    "\n",
    "$$P(w_1 \\dots w_n)\\approx P(w_1)\\prod_{i=2}^{n} P(w_i| w_{i-1}).$$\n",
    "\n",
    "## Exercise 2.4 (5 points)\n",
    "\n",
    "The following sentences are taken from the **training data**. Use your **unsmoothed unigram**, **bigram**, and **trigram** language model to estimate their **probabilities**:\n",
    "\n",
    "    1. Every day was about creating something new .\n",
    "    2. In this machine , a beam of protons and anti-protons are accelerated to near the speed of light and brought \n",
    "       together in a collision , producing a burst of pure energy .\n",
    "\n",
    "**Repeat** this with the **smoothed (add-1)** versions of the N-grams. What is the effect of smoothing on the probabilities?\n"
   ]
  },
  {
   "cell_type": "code",
   "execution_count": null,
   "metadata": {},
   "outputs": [],
   "source": [
    "## YOUR CODE HERE ##"
   ]
  },
  {
   "cell_type": "markdown",
   "metadata": {},
   "source": [
    "YOUR ANSWERS HERE"
   ]
  },
  {
   "cell_type": "markdown",
   "metadata": {},
   "source": [
    "## Exercise 2.5 (5 points)\n",
    "\n",
    "The above sentences were taken from the training set, hence they will all have probability greater than 0. The big challenge for our language model are of course with sentence that contain unseen N-grams: if such an N-gram occurs our model immediately assigns the sentence probability zero.\n",
    "\n",
    "The following three senteces are taken from the **test set** availlable in the file **ted-test.txt**. What probabilities do your smoothed and unsmoothed language models asign in this case?\n",
    "\n",
    "    1. Because these robots are really safe .\n",
    "    2. We have sheer nothingness on one side , and we have this vision of a reality that encompasses every \n",
    "       conceivable world at the other extreme : the fullest possible reality , nothingness , the simplest possible \n",
    "       reality ."
   ]
  },
  {
   "cell_type": "code",
   "execution_count": null,
   "metadata": {},
   "outputs": [],
   "source": [
    "### YOUR CODE HERE ###"
   ]
  },
  {
   "cell_type": "markdown",
   "metadata": {},
   "source": [
    "YOUR ANSWERS HERE"
   ]
  },
  {
   "cell_type": "markdown",
   "metadata": {},
   "source": [
    "### [Optional]\n",
    "\n",
    "**Optional** What percentage of the sentences in the test set get assigned probability 0 under your smoothed and unsmoothed language models? "
   ]
  },
  {
   "cell_type": "code",
   "execution_count": null,
   "metadata": {},
   "outputs": [],
   "source": [
    "### ANSWER HERE ###"
   ]
  },
  {
   "cell_type": "markdown",
   "metadata": {},
   "source": [
    "## Exercise 2.6 (5 points)\n",
    "\n",
    "**Perplexity** is very frequently used **metric** for evaluating probabilistic models such as language models. The perplexity (sometimes called **PP** for short) of a language model on a sentence is the **inverse probability** of the sentence, **normalized** by the number of words:\n",
    "\n",
    "$$PP(w_1 \\dots w_n) = P(w_1\\dots w_n)^{-\\frac{1}{n}}.$$\n",
    "\n",
    "Here we can again approximate $P(w_1 \\dots w_n)$ with N-gram probabilities, as above.\n",
    "Note: $(x_1\\cdots x_n)^{-\\frac{1}{n}}$ is the **geometric mean** of the numbers $x_1,\\dots,x_n$. It is like the (regular) artithmetic mean, but with **products** instead of **sums**. The geometric mean is a more natural choice in the case of *PP* because behind $P(w_1\\dots w_n)$ is a series of $n$ products ([more here](https://en.wikipedia.org/wiki/Geometric_mean)).\n",
    "\n",
    "\n",
    "\n",
    "Compute the perplexity of the training sentences from excercise 2.1. What big difference between the **probabilities** of the sentences and the **perplexities** of the sentences do you notice?"
   ]
  },
  {
   "cell_type": "code",
   "execution_count": null,
   "metadata": {},
   "outputs": [],
   "source": [
    "### YOUR CODE HERE ###"
   ]
  },
  {
   "cell_type": "markdown",
   "metadata": {},
   "source": [
    "YOUR ANSWER HERE"
   ]
  },
  {
   "cell_type": "markdown",
   "metadata": {},
   "source": [
    "# That's it!\n",
    "\n",
    "Congratulations, you have made it to the end of the tutorial. Here we will recap the gist of this notebook. \n",
    "\n",
    "**Make sure all your cells can be executed and all your answers are there. Then, read on if you're interested!**\n",
    "\n",
    "-----\n",
    "\n",
    "By now you should have a solid feeling for the problem of **sparsity in language data**; there's just never enough data. For the task of language modelling, we saw that sparsity is a serious challenge. \n",
    "\n",
    "It would be great to be able to model $p(w_n|w_1 \\dots w_{n-1})$ for unlimited $n$: the larger $n$ the better our language model should become at capturing the long-range dependencies between words that characterize actual human sentences, and the more probability our model will asign to such sentences as opposed to sentences that are word-soup. But in the N-gram approach, increasing $n$ will quickly kill all generalizing abilities of the model: the model will start to asign probabilities only to sentences it has seen in the training data.\n",
    "\n",
    "So, where to go from here? Here are three directions that we could head in.\n",
    "\n",
    "### Smoothing\n",
    "\n",
    "We have seen one example of smoothing in this lab: add-k smoothing. This is an easy method, both conceptually and implementation-wise. But the results are not great, and the effects it has on the distributions can be extreme.\n",
    "\n",
    "A much more sophisticated method of smoothing is so-called **Kneser-Ney smoothing**. The method is described in detail in section 4.5 of J&M (3rd edition). This is one of the best performing N-gram smoothing methods, and up to a few years ago a popular implementation of it called [KenLM](https://kheafield.com/code/kenlm/) gave state of the art results.\n",
    "\n",
    "### From words to characters\n",
    "\n",
    "In this lab we have considered language modeling as the task of predicting a **word** $w_n$ based on a history of **words** $w_1\\cdots w_n$. What if instead we let our basic units of modelling be **characters**? The task then becomes to model $p(c_k\\mid c_{k-N-1}\\dots c_{k-1})$ where each $c_i$ is now an ASCII character instead of an entire word.\n",
    "\n",
    "Suddenly sparsity of data is no longer a problem! The set of characters to use is tiny (< 100) compared to even a small-sized vocabulary as today. Have a look at this very illustrative notebook written by Yoav Golberg to see such a method in action: [The unreasonable effectiveness of Character-level Language Models](http://nbviewer.jupyter.org/gist/yoavg/d76121dfde2618422139).\n",
    "\n",
    "(So what is the downside?)\n",
    "\n",
    "\n",
    "### Neural language models\n",
    "\n",
    "The above notebook was actually written as a response to this blog post by Andrej Karpathy: [The Unreasonable Effectiveness of Recurrent Neural Networks](http://karpathy.github.io/2015/05/21/rnn-effectiveness/). Go ahead and read it if you haven't already: it is a superb introduction to the topic of Recurrent Neural Networks.\n",
    "\n",
    "Neural language models solve the problem of data sparsity in a different manner. Instead of estimating the probabilities $p(w_k\\mid w_{k-N-1}\\dots w_{k-1})$ by counting occurences in the data, they use a neural network $f_{\\theta}$ parametrized by parameters $\\theta$ to predict this probability. The parameters $\\theta$ are learned through optimization. \n",
    "\n",
    "The simplest approach goes like this: each word in the history $w_{k-N-1}\\dots w_{k-1}$ is embedded separately giving  vectors $e_{k-N-1}\\dots e_{k-1}$ and then concatenated into one long vectors $[e_{k-N-1};\\dots ;e_{k-1}]$. The network then uses this history vector to predict a probability distribution over words $w$ in the vocabulary $V$:\n",
    "\n",
    "$$p(w \\mid w_{k-N-1}\\dots w_{k-1}) = f_{\\theta}([e_{k-N-1};\\dots;e_{k-1}]).$$\n",
    "\n",
    "(In order to produce legitimate probabilities the final layer of such a network will be for example a $softmax$.)\n",
    "\n",
    "This provides a solution to the sparsity problem by having the network let the individual embeddings of the words in the history interact through its non-linear transforamtion. We are letting the network figure out the smoothing itself!\n",
    "\n",
    "RNNs are a clever extension of this idea, where a hidden state vector $h$ is re-used and updated at each step $k$ in order to store the information of the entire history up to step $k-1$. That is, an RNN actually does away with the N-order approximation; it tries to model the full conditional directly! That means that\n",
    "\n",
    "$$p(w \\mid w_1\\dots w_{k-1}) \\approx RNN_{\\theta}([e_{k-1};h_{k-1}])$$\n",
    "\n",
    "where the hidden state $h_{k-1}$ is a compression of the *entire history* $w_1\\dots w_{k-1}$.\n",
    "\n",
    "Another great place to learn about RNNs, their problems, and solutions to those, is on the blog of [Christopher Olah](http://colah.github.io/posts/2015-08-Understanding-LSTMs/). The project on language modelling will involve learning more about these methods. \n",
    "\n",
    "-----------\n",
    "(And now, it's time to read the classic essay by Eugene Wigner that gave both of the posts their title: [The Unreasonable Effectiveness of Mathematics in the Natural Sciences](http://www.dartmouth.edu/~matc/MathDrama/reading/Wigner.html))"
   ]
  }
 ],
 "metadata": {
  "anaconda-cloud": {},
  "kernelspec": {
   "display_name": "Python 3",
   "language": "python",
   "name": "python3"
  },
  "language_info": {
   "codemirror_mode": {
    "name": "ipython",
    "version": 3
   },
   "file_extension": ".py",
   "mimetype": "text/x-python",
   "name": "python",
   "nbconvert_exporter": "python",
   "pygments_lexer": "ipython3",
   "version": "3.5.2rc1"
  }
 },
 "nbformat": 4,
 "nbformat_minor": 1
}
