{
 "cells": [
  {
   "cell_type": "code",
   "execution_count": 1,
   "metadata": {
    "collapsed": true
   },
   "outputs": [],
   "source": [
    "%matplotlib inline\n",
    "import matplotlib\n",
    "import numpy as np\n",
    "import matplotlib.pyplot as plt"
   ]
  },
  {
   "cell_type": "markdown",
   "metadata": {},
   "source": [
    "# Lab 1: Text Corpora and Language Modelling\n",
    "\n",
    "This lab is meant to help you get familiar with some language data, and use this data to estimate N-gram language models\n",
    "\n",
    "First you will use the **Penn Treebank**, which is a collection of newspaper articles from the newspaper \n",
    "The Wall Street Journal. The idea is to examine the data and notice interesting properties. This will not take more than a few lines of code.\n",
    "\n",
    "Then you will use a corpus consisting of **TedX** talks. This you will use to estimate an **N-gram language model** for different orders of N, and use this this for some tasks.\n",
    "\n",
    "The datasets are on blackboard under course materials. Download the zip and make sure to put the files in the same directory as the notebook.\n",
    "\n",
    "### Rules\n",
    "* The lab exercises should be made in **groups of two people**.\n",
    "\n",
    "* The deadline is **Tuesday 7 nov 16:59**.\n",
    "\n",
    "* The assignment should submitted to **Blackboard** as `.ipynb`. Only **one submission per group**.\n",
    "\n",
    "* The **filename** should be `lab1_lastname1_lastname2.ipynb`, so for example `lab1_Jurafsky_Martin.ipynb`.\n",
    "\n",
    "* The notebook is graded on a scale of **0-10**. The number of points for each question is indicated in parantheses. \n",
    "\n",
    "* The questions marked **optional** are not graded; they are an additional challenge for those interested in going the extra mile. \n",
    "\n",
    "Notes on implementation:\n",
    "\n",
    "* You should **write your code and answers in this iPython Notebook** (see http://ipython.org/notebook.html for reference material). If you have problems, please contact your teaching assistant.\n",
    "\n",
    "* Use only **one cell for code** and **one cell for markdown** answers!    \n",
    "\n",
    "    * Put all code in the cell with the `# YOUR CODE HERE` comment.\n",
    "    \n",
    "    * For theoretical question, put your solution in the YOUR ANSWER HERE cell.\n",
    "    \n",
    "* Test your code and **make sure we can run your notebook**"
   ]
  },
  {
   "cell_type": "markdown",
   "metadata": {},
   "source": [
    "# 1. Penn treebank\n",
    "\n",
    "## Exercise 1.1 (40 points, 5 points per subquestion )\n",
    "\n",
    "You are provided with a corpus containing words with their Part-of-Speech tags (POS-tags for short). The format is\n",
    "**word|POS** (one sentence per line) and the file name is **sec02-22.gold.tagged**. This data is extracted from Sections 02-22 from the Penn Treebank: these sections are most commonly used for training statistical models like POS-taggers and parsers.\n",
    "\n",
    "**[Hint]** **Figure 10.1** in chapter 10 of Jurafsky and Martin (see [here](https://web.stanford.edu/~jurafsky/slp3/10.pdf)) holds a summary of the 45 POS-tags used in the Penn Treebank tagset together with their meaning and some examples. (If you are keen on learning more about the word-classes represented POS-tags and their definitions you can do a litle reading ahead for next week and already have a look at section 10.1 of the same chapter).\n",
    "\n",
    "**[Hint]** the Python library [collections](https://docs.python.org/2/library/collections.html) has an object called `Counter` which will come in handy for this exercise."
   ]
  },
  {
   "cell_type": "markdown",
   "metadata": {},
   "source": [
    " "
   ]
  },
  {
   "cell_type": "markdown",
   "metadata": {},
   "source": [
    "**(a)** How large is the corpus? (i.e. how **many tokens**). And what is the size of the **vocabulary** used in this corpus? \n",
    "\n",
    "Estimate the vocabulary size both by **lowercasing** all the words as well as by leaving the words in their **original orthography**. What is an advantage of lowercasing all the words in your corpus? What is a notable downside? **Give examples.**"
   ]
  },
  {
   "cell_type": "code",
   "execution_count": 44,
   "metadata": {
    "collapsed": false
   },
   "outputs": [
    {
     "name": "stdout",
     "output_type": "stream",
     "text": [
      "Number of tokens\n",
      "Original: 929552\n",
      "Lowercase: 929552\n",
      "\n",
      "Number of word types\n",
      "Original: 44210\n",
      "Lowercase: 39384\n"
     ]
    }
   ],
   "source": [
    "import os\n",
    "import string\n",
    "from collections import Counter, defaultdict, OrderedDict, deque\n",
    "\n",
    "path = os.path.join(\"data\",\"sec02-21.gold.tagged\")\n",
    "f = open(path,\"r\")\n",
    "\n",
    "counter_orig = Counter()\n",
    "counter_lower = Counter()\n",
    "counter_pos = Counter()\n",
    "counter_wordPOS = Counter()\n",
    "\n",
    "count_diff = 0\n",
    "\n",
    "for line in f:\n",
    "    parts = line.strip().split(\" \")\n",
    "    \n",
    "    for part in parts:\n",
    "        \n",
    "        # Word|pos combinations\n",
    "        counter_wordPOS[part] += 1            \n",
    "        token, pos = part.split(\"|\", 1)\n",
    "        \n",
    "        counter_pos[pos] += 1\n",
    "        \n",
    "        # Ignore punctuation\n",
    "#         if token in string.punctuation:\n",
    "#             continue\n",
    "        \n",
    "        # count original tokens\n",
    "        counter_orig[token]+=1\n",
    "\n",
    "        # count lowercased tokens\n",
    "        counter_lower[token.lower()] += 1\n",
    "f.close()\n",
    "print(\"Number of tokens\")\n",
    "print(\"Original:\", sum(counter_orig.values()))\n",
    "print(\"Lowercase:\", sum(counter_lower.values()))\n",
    "print()\n",
    "print(\"Number of word types\")\n",
    "print(\"Original:\", len(list(counter_orig)))\n",
    "print(\"Lowercase:\", len(list(counter_lower)))"
   ]
  },
  {
   "cell_type": "markdown",
   "metadata": {},
   "source": [
    "#### Number of tokens\n",
    "\n",
    "Original: 929552\n",
    "\n",
    "Lowercase: 929552\n",
    "\n",
    "#### Number of word types\n",
    "\n",
    "Original: 44210\n",
    "\n",
    "Lowercase: 39384\n",
    "\n",
    "#### Explanation\n",
    "\n",
    "The advantage of lowercasing all the tokens is that you no longer count words at the beginning of a sentence as seperate words. But, by doing this you also lose lowercase given names and places and risk pooling them with the regular words.\n",
    "\n",
    "An example of the advantage:\n",
    "\"This morning I drank this cup of coffee.\" has a count of 1 for \"This\" and of 1 for \"this\". We would like to add these two together, as they are the same word.\n",
    "\n",
    "Disadvantage:\n",
    "In the sentence \"In college, George Bush peed in a bush.\" \"Bush\" and \"bush\" will be grouped together."
   ]
  },
  {
   "cell_type": "markdown",
   "metadata": {},
   "source": [
    "------\n",
    "For the rest of this exercise you should use the **original orthography** of the data when answering the questions.\n",
    "\n",
    "------\n"
   ]
  },
  {
   "cell_type": "markdown",
   "metadata": {},
   "source": [
    "**(b)** Plot a graph of word frequency versus rank of a word, in this corpus. Does this corpus obey **Zipf’s law**?"
   ]
  },
  {
   "cell_type": "code",
   "execution_count": 150,
   "metadata": {
    "collapsed": false,
    "scrolled": true
   },
   "outputs": [
    {
     "data": {
      "image/png": "[encoded data removed]",
      "text/plain": [
       "<matplotlib.figure.Figure at 0x16aeb2fa5f8>"
      ]
     },
     "metadata": {},
     "output_type": "display_data"
    },
    {
     "data": {
      "image/png": "[encoded data removed]",
      "text/plain": [
       "<matplotlib.figure.Figure at 0x16aeb3a99b0>"
      ]
     },
     "metadata": {},
     "output_type": "display_data"
    }
   ],
   "source": [
    "frequencies = sorted(counter_orig.values(), reverse=True)\n",
    "ranks = range(1, len(frequencies) + 1)\n",
    "\n",
    "# Plot rank to frequency\n",
    "fig1, ax1 = plt.subplots()\n",
    "ax1.plot(ranks, frequencies, '.')\n",
    "ax1.set_title(\"Normal scale\")\n",
    "\n",
    "# Plot the same in log-scale\n",
    "fig2, ax2 = plt.subplots()\n",
    "ax2.loglog(ranks, frequencies, '.')\n",
    "ax2.set_title(\"Log scale\")\n",
    "\n",
    "# Label axis\n",
    "for ax in [ax1, ax2]:\n",
    "    ax.set_xlabel(\"Rank\")\n",
    "    ax.set_ylabel(\"Frequency\")"
   ]
  },
  {
   "cell_type": "code",
   "execution_count": 4,
   "metadata": {
    "collapsed": false
   },
   "outputs": [
    {
     "name": "stdout",
     "output_type": "stream",
     "text": [
      "10.7853938575\n",
      "11.6001026615\n",
      "11.5332279673\n",
      "11.4406880499\n",
      "11.3388220466\n",
      "11.2899818937\n",
      "11.1845880508\n",
      "11.156393368\n",
      "11.0667633545\n",
      "11.0510011103\n",
      "11.0021998362\n",
      "10.9151793692\n",
      "10.7790396198\n",
      "10.8590759177\n",
      "10.9331783957\n",
      "10.7144844332\n",
      "10.7790187879\n",
      "10.8396397335\n",
      "10.4913297715\n",
      "10.5453940689\n",
      "10.5966847318\n",
      "10.6454725152\n",
      "10.6919903664\n",
      "10.7364401528\n",
      "10.0858507751\n",
      "10.1266711031\n",
      "10.1658902778\n",
      "10.2036291813\n",
      "10.2399955028\n",
      "10.2750855911\n",
      "10.3089859934\n",
      "10.341774741\n",
      "10.3735224313\n",
      "10.404293143\n",
      "10.4341452149\n",
      "10.4631319115\n",
      "10.4913019948\n",
      "10.5187002183\n",
      "10.5453677542\n",
      "10.5713425658\n",
      "10.5966597328\n",
      "10.6213517356\n",
      "10.6454487065\n",
      "10.6689786502\n",
      "10.6919676399\n"
     ]
    }
   ],
   "source": [
    "# Check for zipf's law f*r=k\n",
    "for i in range(0, len(frequencies), 1000):\n",
    "    print(np.log(ranks[i]) + np.log(frequencies[i]))"
   ]
  },
  {
   "cell_type": "markdown",
   "metadata": {},
   "source": [
    "It looks like the corpus obeys Zipf's law. As you can see in the plots, the top ranked word types occur extremely more often than most of the others. This result can be summarized by `log(rank) + log(frequency) ~= constant`. You can see from the sample above that this is indeed the case for this corpus. \n",
    "\n",
    "So, yes. This corpus obeys Zipf's law."
   ]
  },
  {
   "cell_type": "markdown",
   "metadata": {},
   "source": [
    "**(c)** What are the **20 most common words** in the corpus and how often do they occur? What is the 50th most common word, the 100th and the 1000th and how often do they occur?"
   ]
  },
  {
   "cell_type": "code",
   "execution_count": 5,
   "metadata": {
    "collapsed": false
   },
   "outputs": [
    {
     "name": "stdout",
     "output_type": "stream",
     "text": [
      "Top 20:\n",
      "1st: , -> 48310\n",
      "2nd: the -> 40839\n",
      "3rd: . -> 38798\n",
      "4th: of -> 22782\n",
      "5th: to -> 22056\n",
      "6th: a -> 19171\n",
      "7th: and -> 15906\n",
      "8th: in -> 15085\n",
      "9th: 's -> 9249\n",
      "10th: that -> 7951\n",
      "11th: for -> 7912\n",
      "12th: $ -> 7125\n",
      "13th: is -> 6893\n",
      "14th: The -> 6791\n",
      "15th: said -> 5597\n",
      "16th: on -> 5112\n",
      "17th: % -> 4871\n",
      "18th: it -> 4639\n",
      "19th: by -> 4450\n",
      "20th: from -> 4437\n",
      "\n",
      "50th: had -> 1755\n",
      "100th: A -> 860\n",
      "1000th: man -> 109\n"
     ]
    }
   ],
   "source": [
    "ordered_words = sorted(counter_orig.items(), key=lambda t: t[1], reverse=True)\n",
    "\n",
    "print(\"Top 20:\")\n",
    "for rank in list(range(1,21)) + [50, 100, 1000]:\n",
    "    suffix = \"th\"\n",
    "    \n",
    "    # Exceptions for podium places\n",
    "    if rank == 1: suffix = \"st\"\n",
    "    if rank == 2: suffix = \"nd\"\n",
    "    if rank == 3: suffix = \"rd\"\n",
    "    \n",
    "    print(str(rank) + suffix + \":\", ordered_words[rank - 1][0], \"->\", ordered_words[rank - 1][1])\n",
    "    if rank == 20: \n",
    "        print()"
   ]
  },
  {
   "cell_type": "markdown",
   "metadata": {},
   "source": [
    "**(d)** How many different Part-of-speech tags are present in the corpus?"
   ]
  },
  {
   "cell_type": "code",
   "execution_count": 6,
   "metadata": {
    "collapsed": false,
    "scrolled": true
   },
   "outputs": [
    {
     "name": "stdout",
     "output_type": "stream",
     "text": [
      "Unique POS-tags: 48\n",
      "Including punctuation\n"
     ]
    }
   ],
   "source": [
    "print(\"Unique POS-tags:\", len(list(counter_pos)))\n",
    "print(\"Including punctuation\")"
   ]
  },
  {
   "cell_type": "markdown",
   "metadata": {},
   "source": [
    "**(e)** Print a list of the **10 most commonly occurring POS tags** in the data. For each of these POS tags, what are the **3 most common words** that belong to that class?"
   ]
  },
  {
   "cell_type": "code",
   "execution_count": 7,
   "metadata": {
    "collapsed": true
   },
   "outputs": [],
   "source": [
    "# Needed a dict with a set as value\n",
    "unique_wordPOS_combinations = defaultdict(set)\n",
    "\n",
    "for keys,values in counter_wordPOS.items():\n",
    "    word,POS = keys.split(\"|\", 1)\n",
    "    wordpos = (word, POS)\n",
    "    unique_wordPOS_combinations[word].add(POS)"
   ]
  },
  {
   "cell_type": "code",
   "execution_count": 8,
   "metadata": {
    "collapsed": false
   },
   "outputs": [
    {
     "name": "stdout",
     "output_type": "stream",
     "text": [
      "1 NN with top words: ['the', 'that', '%']\n",
      "2 IN with top words: ['of', 'to', 'and']\n",
      "3 NNP with top words: ['the', 'a', \"'s\"]\n",
      "4 DT with top words: ['the', 'a', 'that']\n",
      "5 JJ with top words: ['the', '%', 'as']\n",
      "6 NNS with top words: [\"'s\", 'is', 'years']\n",
      "7 , with top words: [',', 'an', '2']\n",
      "8 . with top words: ['.', '?', '!']\n",
      "9 CD with top words: ['million', 'billion', 'one']\n",
      "10 RB with top words: ['of', 'and', 'in']\n"
     ]
    }
   ],
   "source": [
    "ordered_pos = sorted(counter_pos.items(), key=lambda t: t[1], reverse=True)\n",
    "top_pos_with_top_words = OrderedDict()\n",
    "\n",
    "# https://stackoverflow.com/questions/35791051/better-way-to-check-if-all-lists-in-a-list-are-the-same-length\n",
    "def stop_looking(found_words):\n",
    "    return all(len(l) == 3 for l in found_words)\n",
    "\n",
    "# Create dictionary with 10 most frequent POS-tags\n",
    "for i in range(10):\n",
    "    top_pos_with_top_words[ordered_pos[i][0]] = []\n",
    "\n",
    "# Start going through all the words in order of frequency\n",
    "for word, _ in ordered_words:\n",
    "    POS_tags = unique_wordPOS_combinations[word]\n",
    "    \n",
    "    # Iterate over the top 10 tags\n",
    "    for tag in top_pos_with_top_words.keys():\n",
    "        top_words = top_pos_with_top_words[tag]\n",
    "        \n",
    "        # If this word has the tag and the tag still has less than 3 words assigned\n",
    "        if tag in POS_tags and len(top_words) < 3:\n",
    "            top_words.append(word)\n",
    "    \n",
    "    # Stop looping over the wordlist as soon as all 10 tags have 3 words assinged\n",
    "    if stop_looking(top_pos_with_top_words.values()):\n",
    "        break\n",
    "            \n",
    "for i, kv in enumerate(top_pos_with_top_words.items()):\n",
    "    print(i+1, kv[0], \"with top words:\", kv[1])"
   ]
  },
  {
   "cell_type": "code",
   "execution_count": null,
   "metadata": {
    "collapsed": true
   },
   "outputs": [],
   "source": []
  },
  {
   "cell_type": "code",
   "execution_count": null,
   "metadata": {
    "collapsed": true
   },
   "outputs": [],
   "source": []
  },
  {
   "cell_type": "markdown",
   "metadata": {},
   "source": [
    "**(f)** A single word may have several POS-tags. For example, *record* can be a both a **noun** *(buy a record)* or a **verb** *(record a lecture)*. This make POS-tags extremely useful for **disambiguation**.\n",
    "\n",
    "What percentage of the words in the vocabulary is **ambiguous**? (i.e. have more than one POS tag?) What are the 10 most frequent combinations of POS tags in the case of ambitguity? Which words are **most ambiguous**? Give some of them."
   ]
  },
  {
   "cell_type": "code",
   "execution_count": 254,
   "metadata": {
    "collapsed": false,
    "scrolled": true
   },
   "outputs": [
    {
     "name": "stdout",
     "output_type": "stream",
     "text": [
      "13.469803211942999 % of the vocabulary is ambiguous\n",
      "\n",
      "The top 10 most ambiguous words-postag combinations are:\n",
      "set, with the tags:  {'VBZ', 'VBN', 'NN', 'VBP', 'VB', 'JJ', 'VBD'}\n",
      "many, with the tags:  {'RB', 'NP', 'NN', 'PDT', 'DT', 'VB', 'JJ'}\n",
      "open, with the tags:  {'RB', 'RP', 'VBZ', 'NN', 'VBP', 'VB', 'JJ'}\n",
      "down, with the tags:  {'RB', 'RP', 'RBR', 'IN', 'NN', 'VBP', 'JJ'}\n",
      "in, with the tags:  {'RB', 'RP', 'IN', 'RBR', 'FW', 'CC'}\n",
      "that, with the tags:  {'RB', 'IN', 'NN', 'VBP', 'DT', 'WDT'}\n",
      "own, with the tags:  {'VBZ', 'VBN', 'NN', 'VBP', 'VB', 'JJ'}\n",
      "cut, with the tags:  {'VBN', 'NN', 'VBP', 'VB', 'JJ', 'VBD'}\n",
      "point, with the tags:  {'VBZ', 'VBN', 'NN', 'VBP', 'VB', 'JJ'}\n",
      "left, with the tags:  {'RB', 'VBN', 'NN', 'VB', 'JJ', 'VBD'}\n",
      "\n",
      "The most ambiguous words, all with 7 distinct tags, are: \n",
      "set, with the tags:  {'VBZ', 'VBN', 'NN', 'VBP', 'VB', 'JJ', 'VBD'}\n",
      "many, with the tags:  {'RB', 'NP', 'NN', 'PDT', 'DT', 'VB', 'JJ'}\n",
      "open, with the tags:  {'RB', 'RP', 'VBZ', 'NN', 'VBP', 'VB', 'JJ'}\n",
      "down, with the tags:  {'RB', 'RP', 'RBR', 'IN', 'NN', 'VBP', 'JJ'}\n"
     ]
    }
   ],
   "source": [
    "# Dictionary of ambiguous words and their tags\n",
    "ambiguous = {}\n",
    "for words, pos in unique_wordPOS_combinations.items():\n",
    "    if len(pos)>1:\n",
    "        ambiguous[words]=pos\n",
    "\n",
    "# Percentage of ambiguous words\n",
    "vocabularysize =len(list(counter_orig.values()))\n",
    "print((len(ambiguous)/(vocabularysize))*100, '% of the vocabulary is ambiguous')\n",
    "\n",
    "\n",
    "print()\n",
    "\n",
    "# Most Ambiguous combinations\n",
    "amb_sorted = OrderedDict(sorted(ambiguous.items(), key=lambda t: len(t[1]), reverse =True))\n",
    "print(\"The top 10 most ambiguous words-postag combinations are:\")\n",
    "for w, t in list(amb_sorted.items())[:10]:\n",
    "    print(w+\", with the tags: \", t)\n",
    "    \n",
    "print()\n",
    "    \n",
    "    \n",
    "# Most ambiguous words \n",
    "print(\"The most ambiguous words, all with 7 distinct tags, are: \")\n",
    "for w, t in list(amb_sorted.items())[:4]:\n",
    "    print(w+\", with the tags: \", t)\n"
   ]
  },
  {
   "cell_type": "markdown",
   "metadata": {},
   "source": [
    "**(g)**  Print some of these words with their multiple POS-tags. Do you **understand the ambiguity**? Use figure 10.1 mentioned above to interpret the POS-tags."
   ]
  },
  {
   "cell_type": "markdown",
   "metadata": {
    "collapsed": true
   },
   "source": [
    "ANSWER:\n",
    "\n",
    "The top 10 most ambiguous words are printed above. The pos tags of  one of the most ambiguous word 'set' are:\n",
    "\n",
    "- NN =  noun, sing. or mass \n",
    "- JJ = adjective \n",
    "- VBD = verb past tense\n",
    "- VBN =  verb past participle\n",
    "- VBZ =  verb 3sg pres \n",
    "- VBP = verb non-3sg pres\n",
    "- VB = verb base form \n",
    "\n",
    "This word has appeared in the corpus in all these different forms of parts of speach."
   ]
  },
  {
   "cell_type": "markdown",
   "metadata": {},
   "source": [
    "**(h)** Ambiguous words do not account for a great percentage of the vocabulary. Yet they are among the most commonly occuring words of the English language. What **percentage of the dataset is ambiguous**?"
   ]
  },
  {
   "cell_type": "code",
   "execution_count": 10,
   "metadata": {
    "collapsed": false
   },
   "outputs": [
    {
     "name": "stdout",
     "output_type": "stream",
     "text": [
      "Of the dataset 55.079005800643756% is ambiguous.\n"
     ]
    }
   ],
   "source": [
    "corpussize = sum(counter_orig.values())\n",
    "print('Of the dataset '+str((sum(counter_orig[i] for i in ambiguous) / corpussize) * 100)+'% is ambiguous.')"
   ]
  },
  {
   "cell_type": "markdown",
   "metadata": {},
   "source": [
    "## Exercise 1.2 (10 points, 5 per subquestion)"
   ]
  },
  {
   "cell_type": "markdown",
   "metadata": {},
   "source": [
    "You are also provided with another file called **sec00.gold.tagged**. \n",
    "Section 00 of the Penn Treebank is typically used as development data."
   ]
  },
  {
   "cell_type": "markdown",
   "metadata": {},
   "source": [
    "**(a)** How many **unseen words** are present in the development data (i.e., words that have not occurred in the training data)?"
   ]
  },
  {
   "cell_type": "code",
   "execution_count": 11,
   "metadata": {
    "collapsed": false,
    "scrolled": false
   },
   "outputs": [
    {
     "name": "stdout",
     "output_type": "stream",
     "text": [
      "The size of the vocabulary of the training dataset is: 44210 \n",
      " The size of the development data vocabulary is:  45422 \n",
      " And there are 1728 unseen words\n"
     ]
    }
   ],
   "source": [
    "path = os.path.join(\"data\",\"sec00.gold.tagged\")\n",
    "file = open(path,\"r\")\n",
    "\n",
    "counter_develop_token = Counter()\n",
    "counter_develop_pos = Counter()\n",
    "develop_tokens = []\n",
    "develop_pos = []\n",
    "\n",
    "for lin in file:\n",
    "    lines = lin.strip().split(\" \")\n",
    "    \n",
    "    for lin in lines:\n",
    "        token, pos = lin.split(\"|\", 1)\n",
    "        \n",
    "        develop_tokens.append(token)\n",
    "        develop_pos.append(pos)\n",
    "        \n",
    "file.close()\n",
    "\n",
    "vocabulary = list(counter_orig)\n",
    "unseen_tokens = [(token, pos) for token, pos in zip(develop_tokens, develop_pos) if not token in vocabulary]\n",
    "unseen_pos = Counter(p[1] for p in unseen_tokens)\n",
    "\n",
    "\n",
    "\n",
    "\n",
    "\n",
    "print(\"The size of the vocabulary of the training dataset is:\", len(vocabulary),\"\\n The size of the development data vocabulary is: \", len(develop_tokens),\"\\n And there are \"+str(len(unseen_tokens))+\" unseen words\")\n"
   ]
  },
  {
   "cell_type": "markdown",
   "metadata": {},
   "source": [
    "**(b)** What are the three **POS tag categories** that the most **unseen words** belong to?"
   ]
  },
  {
   "cell_type": "code",
   "execution_count": 12,
   "metadata": {
    "collapsed": false,
    "scrolled": true
   },
   "outputs": [
    {
     "name": "stdout",
     "output_type": "stream",
     "text": [
      "NNP: 815\n",
      "JJ: 258\n",
      "NN: 210\n"
     ]
    }
   ],
   "source": [
    "for pos, freq in unseen_pos.most_common(3):\n",
    "    print(str(pos)+\": \"+str(freq))\n",
    "\n"
   ]
  },
  {
   "cell_type": "markdown",
   "metadata": {},
   "source": [
    "# 2. Language Models\n",
    "\n",
    "This part of the lab will be covered in the Wednesday lecture. If you have prior exposure to NLP, go ahead and finish this part! If you don't, start anyway, and this part will be clear after the lecture. \n",
    "\n",
    "Reference **chapter 4** of J&M *Language Modeling with N-Grams*. \n",
    "\n",
    "----------\n",
    "\n",
    "Models that assign **probabilities** to **sequences of words** are called language **language\n",
    "modelels** or **LMs**. The simplest model that assigns probabilities to sentences and sequences of words is the **N-gram** model.\n",
    "\n",
    "Recall that an *N*-gram language model uses **conditional probabilities** of the form\n",
    "    \n",
    "$$P(w_k \\mid w_{k-N+1} \\dots w_{k-1})$$\n",
    "\n",
    "to **approximate** the full **joint probability**\n",
    "\n",
    "$$P(w_1 \\dots w_n)$$\n",
    "\n",
    "of a sequence of words $w_1 \\dots w_n$.\n",
    "\n",
    "The easiest way of obtaining estimates for the probabilities $P(w_k \\mid w_{k-N+1} \\dots w_{k-1})$ is to use the **maximum likelihood estimate** or **MLE**, a widely used statistical estimation method ([read more]((https://en.wikipedia.org/wiki/Maximum_likelihood_estimation)). You count and normalize:\n",
    "\n",
    "$$P_{MLE}(w_k \\mid w_{k-N+1} \\dots w_{k-1}) = \\frac{C(w_{k-N+1} \\dots w_{k-1} w_k)}{C(w_{k-N+1} \\dots w_{k-1})}.$$\n",
    "\n",
    "\n",
    "## Exercise 2.1 (25 points)\n",
    "\n",
    "**(a) ** Complete the function `train_ngram` so that you can train a count-based $N$-gram language model on the data found in `data/ted-train.txt` and train this for $N=2,3,4$. **15 points**\n",
    "\n",
    "**(b) ** Extend the function above so that it accepts a parameter `k` for optional add-$k$ smoothing. **10 points**\n",
    "\n",
    "**[Datastructure hint]** If you store the smoothed language in a naive manner (that is, to store *all* the numbers separately) your datastructure will get huge! If $V$ is the vocabulary then the smoothed bigram model assigns probabilities to $|V|^2$ entries. If $|V|$ is around 80k, the naive way requires you to store more than 64 billion floats. Yet almost all of these are actually just $P(w_n|w_{n-1}) = \\frac{k}{N + k|V|}$, with $k$ the value with which you smooth and $N=C(w_{n-1})$. Think about how you use this fact to make your model work in practice."
   ]
  },
  {
   "cell_type": "markdown",
   "metadata": {},
   "source": [
    "**[Python hint]** The `collections` library has another useful datastructure: the `defaultdict`. Some example uses:"
   ]
  },
  {
   "cell_type": "code",
   "execution_count": 13,
   "metadata": {
    "collapsed": false
   },
   "outputs": [
    {
     "data": {
      "text/plain": [
       "0.0"
      ]
     },
     "execution_count": 13,
     "metadata": {},
     "output_type": "execute_result"
    }
   ],
   "source": [
    "from collections import defaultdict\n",
    "\n",
    "d = defaultdict(float)\n",
    "d[\"new key\"]"
   ]
  },
  {
   "cell_type": "markdown",
   "metadata": {},
   "source": [
    "Compare that to an ordinary dictionary:"
   ]
  },
  {
   "cell_type": "code",
   "execution_count": 14,
   "metadata": {
    "collapsed": false
   },
   "outputs": [
    {
     "ename": "KeyError",
     "evalue": "'new key'",
     "output_type": "error",
     "traceback": [
      "\u001b[0;31m---------------------------------------------------------------------------\u001b[0m",
      "\u001b[0;31mKeyError\u001b[0m                                  Traceback (most recent call last)",
      "\u001b[0;32m<ipython-input-14-c19a7fd7bc46>\u001b[0m in \u001b[0;36m<module>\u001b[0;34m()\u001b[0m\n\u001b[1;32m      1\u001b[0m \u001b[0md\u001b[0m \u001b[1;33m=\u001b[0m \u001b[0mdict\u001b[0m\u001b[1;33m(\u001b[0m\u001b[1;33m)\u001b[0m\u001b[1;33m\u001b[0m\u001b[0m\n\u001b[0;32m----> 2\u001b[0;31m \u001b[0md\u001b[0m\u001b[1;33m[\u001b[0m\u001b[1;34m\"new key\"\u001b[0m\u001b[1;33m]\u001b[0m\u001b[1;33m\u001b[0m\u001b[0m\n\u001b[0m",
      "\u001b[0;31mKeyError\u001b[0m: 'new key'"
     ]
    }
   ],
   "source": [
    "d = dict()\n",
    "d[\"new key\"]"
   ]
  },
  {
   "cell_type": "markdown",
   "metadata": {},
   "source": [
    "Other datatypes as `default_factory`:"
   ]
  },
  {
   "cell_type": "code",
   "execution_count": 17,
   "metadata": {
    "collapsed": false
   },
   "outputs": [
    {
     "data": {
      "text/plain": [
       "0"
      ]
     },
     "execution_count": 17,
     "metadata": {},
     "output_type": "execute_result"
    }
   ],
   "source": [
    "d = defaultdict(int)\n",
    "d[\"new key\"]"
   ]
  },
  {
   "cell_type": "code",
   "execution_count": 18,
   "metadata": {
    "collapsed": false
   },
   "outputs": [
    {
     "data": {
      "text/plain": [
       "[]"
      ]
     },
     "execution_count": 18,
     "metadata": {},
     "output_type": "execute_result"
    }
   ],
   "source": [
    "d = defaultdict(list)\n",
    "d[\"new key\"]"
   ]
  },
  {
   "cell_type": "markdown",
   "metadata": {},
   "source": [
    "Converting an already existing `dict`:"
   ]
  },
  {
   "cell_type": "code",
   "execution_count": 19,
   "metadata": {
    "collapsed": false
   },
   "outputs": [
    {
     "name": "stdout",
     "output_type": "stream",
     "text": [
      "value\n",
      "0.0\n"
     ]
    }
   ],
   "source": [
    "d1 = {k: \"value\" for k in range(1, 11)}\n",
    "d = defaultdict(float, d1) # convert it to a defaultdict\n",
    "print(d[5])\n",
    "print(d[100])"
   ]
  },
  {
   "cell_type": "markdown",
   "metadata": {},
   "source": [
    "This doesn't work:"
   ]
  },
  {
   "cell_type": "code",
   "execution_count": 20,
   "metadata": {
    "collapsed": false
   },
   "outputs": [
    {
     "ename": "TypeError",
     "evalue": "first argument must be callable or None",
     "output_type": "error",
     "traceback": [
      "\u001b[0;31m---------------------------------------------------------------------------\u001b[0m",
      "\u001b[0;31mTypeError\u001b[0m                                 Traceback (most recent call last)",
      "\u001b[0;32m<ipython-input-20-89e9c9b71b5c>\u001b[0m in \u001b[0;36m<module>\u001b[0;34m()\u001b[0m\n\u001b[0;32m----> 1\u001b[0;31m \u001b[0md\u001b[0m \u001b[1;33m=\u001b[0m \u001b[0mdefaultdict\u001b[0m\u001b[1;33m(\u001b[0m\u001b[1;36m10\u001b[0m\u001b[1;33m)\u001b[0m\u001b[1;33m\u001b[0m\u001b[0m\n\u001b[0m",
      "\u001b[0;31mTypeError\u001b[0m: first argument must be callable or None"
     ]
    }
   ],
   "source": [
    "d = defaultdict(10)"
   ]
  },
  {
   "cell_type": "markdown",
   "metadata": {},
   "source": [
    "Use a `lambda` to make the number `10` `callable`\":"
   ]
  },
  {
   "cell_type": "code",
   "execution_count": 21,
   "metadata": {
    "collapsed": false
   },
   "outputs": [
    {
     "data": {
      "text/plain": [
       "10"
      ]
     },
     "execution_count": 21,
     "metadata": {},
     "output_type": "execute_result"
    }
   ],
   "source": [
    "d = defaultdict(lambda: 10)\n",
    "d[\"new key\"]"
   ]
  },
  {
   "cell_type": "code",
   "execution_count": 22,
   "metadata": {
    "collapsed": false
   },
   "outputs": [
    {
     "data": {
      "text/plain": [
       "defaultdict(float, {})"
      ]
     },
     "execution_count": 22,
     "metadata": {},
     "output_type": "execute_result"
    }
   ],
   "source": [
    "d = defaultdict(lambda: defaultdict(float))\n",
    "d[\"new key\"]"
   ]
  },
  {
   "cell_type": "markdown",
   "metadata": {},
   "source": [
    "Clever use of a `defaultdict` can be the solution to the problem of data-storing in a smoothing $N$-gram pointed out above:\n",
    "    \n",
    "    ngram = defaultdict(lambda: k/(N+kV), ngram)"
   ]
  },
  {
   "cell_type": "markdown",
   "metadata": {},
   "source": [
    "The following function is given:"
   ]
  },
  {
   "cell_type": "code",
   "execution_count": 45,
   "metadata": {
    "collapsed": true
   },
   "outputs": [],
   "source": [
    "train_file = os.path.join(\"data\",\"ted-train.txt\")\n",
    "\n",
    "def read(fname, max_lines=np.inf):\n",
    "    \"\"\"\n",
    "    Reads in the data in fname and returns it as\n",
    "    one long list of words. Also returns a vocabulary in\n",
    "    the form of a word2index and index2word dictionary.\n",
    "    \"\"\"\n",
    "    data = []\n",
    "    # w2i will automatically keep a counter to asign to new words\n",
    "    w2i = defaultdict(lambda: len(w2i))\n",
    "    i2w = dict()\n",
    "    start = \"<s>\"\n",
    "    end = \"</s>\"\n",
    "    \n",
    "    with open(fname, \"r\", encoding = 'utf8') as fh:\n",
    "        for k, line in enumerate(fh):\n",
    "            if k > max_lines:\n",
    "                break\n",
    "            words = line.strip().split()\n",
    "            # assign an index to each word\n",
    "            for w in words:\n",
    "                i2w[w2i[w]] = w # trick\n",
    "            \n",
    "            sent = [start] + words + [end]\n",
    "            data.append(sent)\n",
    "\n",
    "    return data, w2i, i2w"
   ]
  },
  {
   "cell_type": "code",
   "execution_count": 275,
   "metadata": {
    "collapsed": true
   },
   "outputs": [],
   "source": [
    "from copy import deepcopy\n",
    "\n",
    "def train_ngram(data, N, k=0):\n",
    "    \"\"\"\n",
    "    Trains an n-gram language model with optional add-k smoothing\n",
    "    and additionaly returns the unigram model\n",
    "    \n",
    "    :param data: text-data as returned by read\n",
    "    :param N: (N>1) the order of the ngram e.g. N=2 gives a bigram\n",
    "    :param k: optional add-k smoothing\n",
    "    :returns: ngram and unigram\n",
    "    \"\"\"\n",
    "    \n",
    "    # data\n",
    "    flat_data = [word for sent in data for word in sent]\n",
    "    \n",
    "    # initialize ngram and unigram\n",
    "    unigram = defaultdict(float, Counter(flat_data)) # default prob is 0.0\n",
    "    ngram = defaultdict(Counter) # ngram[history][word] = #(history,word)\n",
    "    \n",
    "    # vocabulary size and corpus size\n",
    "    vocabulary_size = len(list(unigram))\n",
    "    corpus_size = len(flat_data)\n",
    "    \n",
    "    # init history counter object\n",
    "    history_count = Counter()\n",
    "    \n",
    "    # history is a fixed length list which fills FIFO from right to left using .append()\n",
    "   \n",
    "    current_history = deque((N-1)*[\"<s>\"], N-1)\n",
    "\n",
    "    # Create counts ngram\n",
    "    for i, word in enumerate(flat_data):\n",
    "        # Also prepend every sentence with as many <s> 's as needed to be able to use a ngram for the first word\n",
    "        if word == '<s>':\n",
    "            current_history = deque((N-1)*[\"<s>\"], N-1)\n",
    "            \n",
    "        curr_history_string = ' '.join(current_history)\n",
    "\n",
    "        history_count[curr_history_string] += 1\n",
    "\n",
    "        # Update count for (history, word)\n",
    "        ngram[curr_history_string][word] += 1\n",
    "\n",
    "        # Add word to history\n",
    "        current_history.append(word)\n",
    "    \n",
    "    # Needed for 2.3\n",
    "    rawcounts = deepcopy(ngram)\n",
    "\n",
    "    # no smoothing\n",
    "    if k== 0:\n",
    "    \n",
    "        # Create probabilties unigram\n",
    "        for word in list(unigram):\n",
    "            unigram[word] = (unigram[word] / corpus_size)\n",
    "\n",
    "        # Create probabilities ngram\n",
    "        for i, history in enumerate(list(ngram)):\n",
    "            for word in list(ngram[history]):\n",
    "\n",
    "                ngram[history][word] = (ngram[history][word] / history_count[history])\n",
    "   \n",
    "    # if smoothing\n",
    "    else:\n",
    "        # unigram probabilities\n",
    "        for word, frequency in unigram.items():\n",
    "            unigram[word] = (k+frequency)/(corpus_size+k*vocabulary_size)\n",
    "            \n",
    "        # ngram probabilites\n",
    "        for history, counterobject in ngram.items():\n",
    "            \n",
    "            # The total count of every history is different, that needs to be taken into account\n",
    "            count_history = sum(counterobject.values())\n",
    "            \n",
    "            # For every possible word given this history, the default is a smoothed value\n",
    "            word_def_dict = defaultdict(lambda: k/(count_history+(k*vocabulary_size)))\n",
    "            \n",
    "            # For the words that do exist given this history\n",
    "            for word, frequency in counterobject.items():\n",
    "                word_def_dict[word] = (frequency+k)/(count_history+(k*vocabulary_size))\n",
    "            \n",
    "            # Add all words (seen and unseen), to the ngram history\n",
    "            ngram[history] = word_def_dict\n",
    "\n",
    "\n",
    "    return ngram, unigram, rawcounts"
   ]
  },
  {
   "cell_type": "code",
   "execution_count": null,
   "metadata": {
    "collapsed": true
   },
   "outputs": [],
   "source": [
    "# data, w2i, i2w = read(train_file)\n",
    "bigram, unigram, rawcountsbi = train_ngram(data, N=2, k=0)\n",
    "trigram, unigram, rawcountstri = train_ngram(data, N=3, k=0)\n",
    "quadgram, unigram, rawcountsquad = train_ngram(data, N=4, k=0)\n"
   ]
  },
  {
   "cell_type": "code",
   "execution_count": null,
   "metadata": {
    "collapsed": false
   },
   "outputs": [],
   "source": [
    "smooth_bigram, smooth_unigram, _ = train_ngram(data, N=2, k=1)"
   ]
  },
  {
   "cell_type": "markdown",
   "metadata": {},
   "source": [
    "## Exercise 2.2 (5 points)\n",
    "\n",
    "You can use an *N*-gram language model to **generate text**. The higher the order *N* the better your model will be able to catch the long-range dependecies that occur in actual sentences and the better your changes are at generating sensible text. But beware: **sparsity** of language data will quickly cause your model to reproduce entire lines from your training data; in such cases only one $w_k$ was observed for the histories $w_{k-N+1}\\dots w_{k-1}$ in the entire training-set.\n",
    "\n",
    "**Complete** the function `generate_sent`. It takes a language model `lm` and an order `N` and should generate a sentence by **sampling** from the language model.\n",
    "\n",
    "**[Hint]** You can use the method of [inverse transform sampling](https://en.wikipedia.org/wiki/Inverse_transform_sampling) to generate a sample from a **categorical distribution**, $p_1\\dots p_k$ such that $p_i \\geq 0$ and $\\sum_{i=1}^k p_i = 1$, as follows:"
   ]
  },
  {
   "cell_type": "code",
   "execution_count": 48,
   "metadata": {
    "collapsed": false
   },
   "outputs": [
    {
     "name": "stdout",
     "output_type": "stream",
     "text": [
      "1\n",
      "Counter({1: 503, 0: 203, 2: 185, 3: 109})\n"
     ]
    }
   ],
   "source": [
    "from random import random\n",
    "\n",
    "P = [0.2,0.5,0.2,0.1]\n",
    "\n",
    "def sample(P):\n",
    "    u = random() # uniformly random number between 0 and 1\n",
    "    p = 0\n",
    "    for i, p_i in enumerate(P):\n",
    "        \n",
    "        # swapped the lines to get rid of None and align the output with the list indices\n",
    "        p += p_i\n",
    "        if p > u: \n",
    "            return i # the first i s.t. p1 + ... + pi > u\n",
    "        \n",
    "        \n",
    "print(sample(P))\n",
    "\n",
    "print(Counter([sample(P) for i in range(1000)])) # check to see if the law of large numbers is still true"
   ]
  },
  {
   "cell_type": "markdown",
   "metadata": {},
   "source": [
    "Inverse transform sampling in the words of Jurafsky and Martin:\n",
    "\n",
    "> Imagine all the words of the English language covering the probability space\n",
    "between 0 and 1, each word covering an interval proportional to its frequency. We\n",
    "choose a random value between 0 and 1 and print the word whose interval includes\n",
    "this chosen value.\n",
    "\n",
    "(J&M, section 4.3)"
   ]
  },
  {
   "cell_type": "code",
   "execution_count": 59,
   "metadata": {
    "collapsed": false
   },
   "outputs": [
    {
     "ename": "AttributeError",
     "evalue": "'float' object has no attribute 'values'",
     "output_type": "error",
     "traceback": [
      "\u001b[0;31m---------------------------------------------------------------------------\u001b[0m",
      "\u001b[0;31mAttributeError\u001b[0m                            Traceback (most recent call last)",
      "\u001b[0;32m<ipython-input-59-beacaaf5e43b>\u001b[0m in \u001b[0;36m<module>\u001b[0;34m()\u001b[0m\n\u001b[1;32m     36\u001b[0m \u001b[0;31m# generate_sent(unigram, 20)\u001b[0m\u001b[0;34m\u001b[0m\u001b[0;34m\u001b[0m\u001b[0m\n\u001b[1;32m     37\u001b[0m \u001b[0mN\u001b[0m \u001b[0;34m=\u001b[0m \u001b[0;36m100\u001b[0m\u001b[0;34m\u001b[0m\u001b[0m\n\u001b[0;32m---> 38\u001b[0;31m \u001b[0mprint\u001b[0m\u001b[0;34m(\u001b[0m\u001b[0;34m\"Unigram\"\u001b[0m\u001b[0;34m,\u001b[0m \u001b[0mgenerate_sent\u001b[0m\u001b[0;34m(\u001b[0m\u001b[0munigram\u001b[0m\u001b[0;34m,\u001b[0m \u001b[0mN\u001b[0m\u001b[0;34m)\u001b[0m\u001b[0;34m)\u001b[0m\u001b[0;34m\u001b[0m\u001b[0m\n\u001b[0m\u001b[1;32m     39\u001b[0m \u001b[0mprint\u001b[0m\u001b[0;34m(\u001b[0m\u001b[0;34m)\u001b[0m\u001b[0;34m\u001b[0m\u001b[0m\n\u001b[1;32m     40\u001b[0m \u001b[0mprint\u001b[0m\u001b[0;34m(\u001b[0m\u001b[0;34m\"Bigram\"\u001b[0m\u001b[0;34m,\u001b[0m \u001b[0mgenerate_sent\u001b[0m\u001b[0;34m(\u001b[0m\u001b[0mbigram\u001b[0m\u001b[0;34m,\u001b[0m \u001b[0mN\u001b[0m\u001b[0;34m)\u001b[0m\u001b[0;34m)\u001b[0m\u001b[0;34m\u001b[0m\u001b[0m\n",
      "\u001b[0;32m<ipython-input-59-beacaaf5e43b>\u001b[0m in \u001b[0;36mgenerate_sent\u001b[0;34m(lm, N)\u001b[0m\n\u001b[1;32m     28\u001b[0m \u001b[0;34m\u001b[0m\u001b[0m\n\u001b[1;32m     29\u001b[0m     \u001b[0;32mfor\u001b[0m \u001b[0mi\u001b[0m \u001b[0;32min\u001b[0m \u001b[0mrange\u001b[0m\u001b[0;34m(\u001b[0m\u001b[0;36m1\u001b[0m\u001b[0;34m,\u001b[0m \u001b[0mN\u001b[0m\u001b[0;34m)\u001b[0m\u001b[0;34m:\u001b[0m\u001b[0;34m\u001b[0m\u001b[0m\n\u001b[0;32m---> 30\u001b[0;31m         \u001b[0mnext_word\u001b[0m \u001b[0;34m=\u001b[0m \u001b[0mgen_next_word\u001b[0m\u001b[0;34m(\u001b[0m\u001b[0mlm\u001b[0m\u001b[0;34m,\u001b[0m \u001b[0;34m' '\u001b[0m\u001b[0;34m.\u001b[0m\u001b[0mjoin\u001b[0m\u001b[0;34m(\u001b[0m\u001b[0mhistory\u001b[0m\u001b[0;34m)\u001b[0m\u001b[0;34m)\u001b[0m\u001b[0;34m\u001b[0m\u001b[0m\n\u001b[0m\u001b[1;32m     31\u001b[0m         \u001b[0msentence\u001b[0m\u001b[0;34m[\u001b[0m\u001b[0mi\u001b[0m\u001b[0;34m]\u001b[0m \u001b[0;34m=\u001b[0m \u001b[0mnext_word\u001b[0m\u001b[0;34m\u001b[0m\u001b[0m\n\u001b[1;32m     32\u001b[0m         \u001b[0mhistory\u001b[0m\u001b[0;34m.\u001b[0m\u001b[0mappend\u001b[0m\u001b[0;34m(\u001b[0m\u001b[0mnext_word\u001b[0m\u001b[0;34m)\u001b[0m\u001b[0;34m\u001b[0m\u001b[0m\n",
      "\u001b[0;32m<ipython-input-59-beacaaf5e43b>\u001b[0m in \u001b[0;36mgen_next_word\u001b[0;34m(lm, history)\u001b[0m\n\u001b[1;32m     12\u001b[0m         \u001b[0mlm\u001b[0m \u001b[0;34m=\u001b[0m \u001b[0mlm\u001b[0m\u001b[0;34m[\u001b[0m\u001b[0mhistory\u001b[0m\u001b[0;34m]\u001b[0m\u001b[0;34m\u001b[0m\u001b[0m\n\u001b[1;32m     13\u001b[0m \u001b[0;34m\u001b[0m\u001b[0m\n\u001b[0;32m---> 14\u001b[0;31m     \u001b[0mP\u001b[0m \u001b[0;34m=\u001b[0m \u001b[0mlm\u001b[0m\u001b[0;34m.\u001b[0m\u001b[0mvalues\u001b[0m\u001b[0;34m(\u001b[0m\u001b[0;34m)\u001b[0m\u001b[0;34m\u001b[0m\u001b[0m\n\u001b[0m\u001b[1;32m     15\u001b[0m     \u001b[0mword_options\u001b[0m \u001b[0;34m=\u001b[0m \u001b[0mlist\u001b[0m\u001b[0;34m(\u001b[0m\u001b[0mlm\u001b[0m\u001b[0;34m.\u001b[0m\u001b[0mkeys\u001b[0m\u001b[0;34m(\u001b[0m\u001b[0;34m)\u001b[0m\u001b[0;34m)\u001b[0m\u001b[0;34m\u001b[0m\u001b[0m\n\u001b[1;32m     16\u001b[0m \u001b[0;34m\u001b[0m\u001b[0m\n",
      "\u001b[0;31mAttributeError\u001b[0m: 'float' object has no attribute 'values'"
     ]
    }
   ],
   "source": [
    "def order_of_lm(lm):\n",
    "    if isinstance(lm[0], float): \n",
    "        return 0\n",
    "    else: \n",
    "        return len(list(lm.keys()))\n",
    "\n",
    "\n",
    "def gen_next_word(lm, history=None):\n",
    "\n",
    "    if len(history)  None:\n",
    "        lm = lm[history]\n",
    "        \n",
    "    P = lm.values()\n",
    "    word_options = list(lm.keys())\n",
    "    \n",
    "    i = sample(P)\n",
    "\n",
    "    return word_options[i]\n",
    "    \n",
    "def generate_sent(lm, N):\n",
    "\n",
    "    sentence = [\"\"]*N\n",
    "    \n",
    "    order = order_of_lm(lm)\n",
    "\n",
    "    history = deque(order*[\"\"], order)\n",
    "    \n",
    "    for i in range(1, N):\n",
    "        next_word = gen_next_word(lm, ' '.join(history))\n",
    "        sentence[i] = next_word\n",
    "        history.append(next_word)\n",
    "    \n",
    "    return ' '.join(sentence)\n",
    "\n",
    "# generate_sent(unigram, 20)\n",
    "N = 100\n",
    "print(\"Unigram\", generate_sent(unigram, N))\n",
    "print()\n",
    "print(\"Bigram\", generate_sent(bigram, N))\n",
    "print()\n",
    "print(\"Trigram\", generate_sent(trigram, N))\n",
    "print()\n",
    "print(\"Quadgram\", generate_sent(quadgram, N))"
   ]
  },
  {
   "cell_type": "markdown",
   "metadata": {},
   "source": [
    "### [Optional]\n",
    "\n",
    "For how many of the histories $w_{k-N+1}\\dots w_{k-1}$ is the number of continuations $w_n$ equal to **one**? Calculate the percentage of such cases for the different orders *N*.\n",
    "\n",
    "And which history has the **most possible continuations**?"
   ]
  },
  {
   "cell_type": "code",
   "execution_count": 28,
   "metadata": {
    "collapsed": true
   },
   "outputs": [],
   "source": [
    "### ANSWER ###"
   ]
  },
  {
   "cell_type": "markdown",
   "metadata": {},
   "source": [
    "## Excercise 2.3 (5 points)\n",
    "\n",
    "Let $V$ denote our vocabulary. Recall that for any $w$ in $V$ `bigram[w]` defines a conditional probability $p(v|w)$ over $v$ in $V$. In the case of an **unsmoothed bigram**, $p(v|w) = 0$ for most $v\\in V$, whereas in the **smoothed bigram** smoothing took care that $p(v|w) \\geq 0$ for *all* $v$.\n",
    "\n",
    "The function `plot_bigram_dist(word, bigram, smoothbigram, k=30)` plots shows $p(v|word)$ for the `k` words $v$. One bar shows the probabilities in `bigram` and one in `smoothbigram`. \n",
    "\n",
    "**(a)** Use this function to plot the distribution for at least two words `w` and answer the questions\n",
    "* What is the effect of smoothing on the bigram distribution of frequent words? \n",
    "* What is the effect in the case of infrequent words?\n",
    "* Explain the difference between the two based on the raw counts of `w` \n",
    "\n",
    "**(b)** Now experiment with $k$ much smaller than 1 (but greater than 0!) \n",
    "* What are the effects?\n",
    "\n",
    "\n",
    "**[Hint]** Remember that add-1 smoothing turns \n",
    "$$P(w_n\\mid w_{n-1}) = \\frac{C(w_{n-1}w_{n})}{C(w_{n-1})}$$\n",
    "into\n",
    "$$P_{add-1}(w_n\\mid w_{n-1}) = \\frac{C(w_{n-1}w_{n}) + 1}{C(w_{n-1}) + |V|}.$$\n",
    "\n",
    "What happens when $C(w_{n-1})$ is relatively big (similiar in of size as $ |V| $)? And what if $C(w_{n-1})$ is small? "
   ]
  },
  {
   "cell_type": "code",
   "execution_count": 49,
   "metadata": {
    "collapsed": true
   },
   "outputs": [],
   "source": [
    "import pandas as pd\n",
    "import seaborn as sns    \n",
    "\n",
    "def plot_bigram_dist(word, bigram, smoothbigram, k=30):\n",
    "    d = bigram[word]\n",
    "    ds = smoothbigram[word]\n",
    "    \n",
    "    # sort the probabilities\n",
    "    d_sort = sorted(d.items(), reverse=True, key=lambda t: t[1])[0:k]\n",
    "    ds_sort = sorted(ds.items(), reverse=True, key=lambda t: t[1])[0:k]\n",
    "    \n",
    "    _, probs = zip(*d_sort)\n",
    "    smooth_ws, smooth_probs = zip(*ds_sort)\n",
    "    \n",
    "    # make up for the fact that in the unsmoothed case  probs is generally less than k long\n",
    "    probs = probs + (0,) * (k-len(probs)) \n",
    "\n",
    "    w_data = pd.DataFrame({\"w\": smooth_ws * 2,\n",
    "                           \"P({}|w)\".format(word): probs + smooth_probs,\n",
    "                           \"smoothing\": [\"unsmoothed\"]*k + [\"smoothed\"]*k})\n",
    "    \n",
    "    fig, ax = plt.subplots(figsize=(10,10))\n",
    "    plt.xticks(rotation=90)\n",
    "    g = sns.barplot(ax=ax, x=\"w\", y=\"P({}|w)\".format(word), hue=\"smoothing\",\n",
    "                    data=w_data, palette=\"Blues_d\")    "
   ]
  },
  {
   "cell_type": "code",
   "execution_count": 185,
   "metadata": {
    "collapsed": true
   },
   "outputs": [],
   "source": [
    "bigram, unigram, rawcounts = train_ngram(data,2,0)"
   ]
  },
  {
   "cell_type": "code",
   "execution_count": 271,
   "metadata": {
    "collapsed": false
   },
   "outputs": [
    {
     "name": "stdout",
     "output_type": "stream",
     "text": [
      "195064\n"
     ]
    },
    {
     "data": {
      "image/png": "[encoded data removed]",
      "text/plain": [
       "<matplotlib.figure.Figure at 0x16ae93a0438>"
      ]
     },
     "metadata": {},
     "output_type": "display_data"
    }
   ],
   "source": [
    "plot_bigram_dist(\"the\", bigram, smoothbigram)\n",
    "\n",
    "# Explain the difference between the two based on the raw counts of w\n",
    "print(sum(rawcounts['the'].values()))"
   ]
  },
  {
   "cell_type": "code",
   "execution_count": null,
   "metadata": {
    "collapsed": false
   },
   "outputs": [],
   "source": [
    "plot_bigram_dist(\"York\", bigram, smoothbigram)\n",
    "\n",
    "# Explain the difference between the two based on the raw counts of w.\n",
    "print(sum(rawcounts['York'].values()))\n",
    "print('total probability smoothed: ',sum(smoothbigram.values()))"
   ]
  },
  {
   "cell_type": "code",
   "execution_count": 190,
   "metadata": {
    "collapsed": true
   },
   "outputs": [],
   "source": [
    "smoothbigramsmall, smoothunigramsmall, smoothrawcountssmall = train_ngram(data,2,0.001)"
   ]
  },
  {
   "cell_type": "code",
   "execution_count": null,
   "metadata": {
    "collapsed": false
   },
   "outputs": [],
   "source": [
    "plot_bigram_dist(\"the\", bigram, smoothbigramsmall)\n"
   ]
  },
  {
   "cell_type": "code",
   "execution_count": null,
   "metadata": {
    "collapsed": false
   },
   "outputs": [],
   "source": [
    "plot_bigram_dist(\"York\", bigram, smoothbigramsmall)"
   ]
  },
  {
   "cell_type": "markdown",
   "metadata": {},
   "source": [
    "**(a)** Use this function to plot the distribution for at least two words `w` and answer the questions\n",
    "* What is the effect of smoothing on the bigram distribution of frequent words? \n",
    "\n",
    "Smoothing is 'stealing from the rich and redistributing to the poor'. 'the' Is a frequent token/word. The probabilities are smaller for the smoothed version than for the unsmoothed version, so that makes sense.\n",
    "\n",
    "\n",
    "* What is the effect in the case of infrequent words?\n",
    "\n",
    "'York' is an infrequent token/word. The probabilities for the smoothed version are a lot smaller than for the unsmoothed version. The difference is larger than for the frequent token, this also makes sense. Since everything that will be redistributed must come from the the top most frequent tokens ('City', ',' , 'Times', etc.) Since there are a lot of unseen words.\n",
    "\n",
    "\n",
    "\n",
    "* Explain the difference between the two based on the raw counts of `w` \n",
    "\n",
    "Raw counts the: 195064\n",
    "\n",
    "Raw counts York: 759\n",
    "\n",
    "TODO: explain\n",
    "\n",
    "\n",
    "**(b)** Now experiment with $k$ much smaller than 1 (but greater than 0!) \n",
    "* What are the effects?\n",
    "\n",
    "For both the mean probability of the smoothed version goes up a lot compared to the unsmoothed version\n",
    "\n",
    "\n",
    "\n",
    "\n"
   ]
  },
  {
   "cell_type": "markdown",
   "metadata": {},
   "source": [
    "\n",
    "**Recall** that if we have a sentence $w_1,\\dots,w_n$ we can write\n",
    "\n",
    "$$P(w_1\\dots w_n) = P(w_1)P(w_2|w_1) \\cdots P(w_i|w_1 \\dots w_{n-1}) \\approx P(w_1)P(w_2|w_1)\\cdots P(w_{N-1}|w_1\\dots w_{N-2})\\prod_{i=N}^{n} P(w_i|w_{i-(N-1)}\\dots w_{i-1})$$\n",
    "\n",
    "where in the last step we make an $N$-gram approximation of the full conditionals.\n",
    "\n",
    "For example, in the case of a bigram (N=2), the above expression reduces to\n",
    "\n",
    "$$P(w_1 \\dots w_n)\\approx P(w_1)\\prod_{i=2}^{n} P(w_i| w_{i-1}).$$\n",
    "\n",
    "## Exercise 2.4 (5 points)\n",
    "\n",
    "The following sentences are taken from the **training data**. Use your **unsmoothed unigram**, **bigram**, and **trigram** language model to estimate their **probabilities**:\n",
    "\n",
    "    1. Every day was about creating something new .\n",
    "    2. In this machine , a beam of protons and anti-protons are accelerated to near the speed of light and brought \n",
    "       together in a collision , producing a burst of pure energy .\n",
    "\n",
    "**Repeat** this with the **smoothed (add-1)** versions of the N-grams. What is the effect of smoothing on the probabilities?\n"
   ]
  },
  {
   "cell_type": "code",
   "execution_count": null,
   "metadata": {
    "collapsed": true
   },
   "outputs": [],
   "source": [
    "# TODO: train on all data\n",
    "smoothtrigram, smoothunigram, smoothtrirawcounts = train_ngram(data,3,1)"
   ]
  },
  {
   "cell_type": "code",
   "execution_count": 281,
   "metadata": {
    "collapsed": false
   },
   "outputs": [
    {
     "name": "stdout",
     "output_type": "stream",
     "text": [
      "<s> given history: <s> <s>  has prob 0.5\n",
      "Here given history: <s> <s>  has prob 0.0005\n",
      "are given history: <s> Here  has prob 1.0\n",
      "two given history: Here are  has prob 1.0\n",
      "reasons given history: are two  has prob 0.5\n",
      "companies given history: two reasons  has prob 1.0\n",
      "fail given history: reasons companies  has prob 1.0\n",
      ": given history: companies fail  has prob 1.0\n",
      "they given history: fail :  has prob 1.0\n",
      "only given history: : they  has prob 0.5\n",
      "do given history: they only  has prob 1.0\n",
      "more given history: only do  has prob 0.5\n",
      "of given history: do more  has prob 1.0\n",
      "the given history: more of  has prob 0.5\n",
      "same given history: of the  has prob 0.015625\n",
      ", given history: the same  has prob 0.05263157894736842\n",
      "or given history: same ,  has prob 1.0\n",
      "they given history: , or  has prob 0.07142857142857142\n",
      "only given history: or they  has prob 1.0\n",
      "do given history: they only  has prob 1.0\n",
      "what given history: only do  has prob 0.5\n",
      "'s given history: do what  has prob 1.0\n",
      "new given history: what 's  has prob 0.5\n",
      ". given history: 's new  has prob 1.0\n",
      "</s> given history: new .  has prob 1.0\n",
      "Using the unsmoothed trigram model, the probability for testsentenceeeeeeeeeeeeeeeeeeeeeeeee  is:  2.2945547462406012e-10\n",
      "\n",
      "\n",
      "\n"
     ]
    }
   ],
   "source": [
    "def estimate_probability(sentence, model ,n):\n",
    "    prob = 1.0\n",
    "    \n",
    "    history = deque((n-1)*[\"<s>\"], (n-1))\n",
    "\n",
    "    for word in sentence:\n",
    "        \n",
    "        history_string = ' '.join(history)\n",
    "        \n",
    "        # unigram\n",
    "        if n == 1:\n",
    "            prob *= model[word]\n",
    "            \n",
    "        # bigram or higher\n",
    "        if n > 1:\n",
    "            prob *= model[history_string][word]\n",
    "            print(word,\"given history:\", history_string, ' has prob', model[history_string][word])\n",
    "        \n",
    "        history.append(word)\n",
    "            \n",
    "    return prob\n",
    "                \n",
    "\n",
    "sentence1 = \"<s> Every day was about creating something new . </s>\".split()\n",
    "sentence2 = \"<s> In this machine , a beam of protons and anti-protons are accelerated to near the speed of light and brought together in a collision , producing a burst of pure energy . </s>\".split()\n",
    "\n",
    "testsentence = \"<s> Here are two reasons companies fail : they only do more of the same , or they only do what 's new . </s>\".split()\n",
    "#TODO: deze zinnen komen uit de training set en zouden dus allemaal een probability > 0 moeten hebben. Echter is dit (nu) \n",
    "\n",
    "# print('Using the unsmoothed unigram model, the probability for sentence 1 is: ', estimate_probability(sentence1, unigram, 1))    \n",
    "\n",
    "# print('Using the unsmoothed bigram model, the probability for sentence 1 is: ', estimate_probability(sentence1, bigram, 2))  \n",
    "\n",
    "print('Using the unsmoothed trigram model, the probability for testsentenceeeeeeeeeeeeeeeeeeeeeeeee  is: ', estimate_probability(testsentence, trigram, 3))  \n",
    "\n",
    "\n",
    "# print('Using the unsmoothed unigram model, the probability for sentence 2 is: ', estimate_probability(sentence2, unigram, 1))    \n",
    "\n",
    "# print('Using the unsmoothed bigram model, the probability for sentence 2 is: ', estimate_probability(sentence2, bigram, 2))\n",
    "print()\n",
    "print()\n",
    "print()\n",
    "\n",
    "# print('Using the unsmoothed trigram model, the probability for sentence 2 is: ', estimate_probability(sentence2, trigram, 3))  \n",
    "\n",
    "\n",
    "\n",
    "\n",
    "\n",
    "\n",
    "\n",
    "# print('Using the smoothed bigram model, the probability for sentence 1 is: ', estimate_probability(sentence1, smoothbigram, 2))  \n",
    "\n",
    "# print('Using the smoothed bigram model, the probability for sentence 1 is: ', estimate_probability(sentence1, smoothtrigram, 3))\n",
    "\n",
    "# print('Using the smoothed bigram model, the probability for sentence 2 is: ', estimate_probability(sentence2, smoothbigram, 2))  \n",
    "\n",
    "# print('Using the smoothed bigram model, the probability for sentence 2 is: ', estimate_probability(sentence2, smoothtrigram, 3))  "
   ]
  },
  {
   "cell_type": "markdown",
   "metadata": {},
   "source": [
    "YOUR ANSWERS HERE"
   ]
  },
  {
   "cell_type": "markdown",
   "metadata": {},
   "source": [
    "## Exercise 2.5 (5 points)\n",
    "\n",
    "The above sentences were taken from the training set, hence they will all have probability greater than 0. The big challenge for our language model are of course with sentence that contain unseen N-grams: if such an N-gram occurs our model immediately assigns the sentence probability zero.\n",
    "\n",
    "The following three senteces are taken from the **test set** availlable in the file **ted-test.txt**. What probabilities do your smoothed and unsmoothed language models asign in this case?\n",
    "\n",
    "    1. Because these robots are really safe .\n",
    "    2. We have sheer nothingness on one side , and we have this vision of a reality that encompasses every \n",
    "       conceivable world at the other extreme : the fullest possible reality , nothingness , the simplest possible \n",
    "       reality ."
   ]
  },
  {
   "cell_type": "code",
   "execution_count": null,
   "metadata": {
    "collapsed": true
   },
   "outputs": [],
   "source": [
    "test1 = \"<s> Because these robots are really safe . </s>\"\n",
    "test2 = "
   ]
  },
  {
   "cell_type": "markdown",
   "metadata": {},
   "source": [
    "YOUR ANSWERS HERE"
   ]
  },
  {
   "cell_type": "markdown",
   "metadata": {},
   "source": [
    "### [Optional]\n",
    "\n",
    "**Optional** What percentage of the sentences in the test set get assigned probability 0 under your smoothed and unsmoothed language models? "
   ]
  },
  {
   "cell_type": "code",
   "execution_count": null,
   "metadata": {
    "collapsed": true
   },
   "outputs": [],
   "source": [
    "### ANSWER HERE ###"
   ]
  },
  {
   "cell_type": "markdown",
   "metadata": {},
   "source": [
    "## Exercise 2.6 (5 points)\n",
    "\n",
    "**Perplexity** is very frequently used **metric** for evaluating probabilistic models such as language models. The perplexity (sometimes called **PP** for short) of a language model on a sentence is the **inverse probability** of the sentence, **normalized** by the number of words:\n",
    "\n",
    "$$PP(w_1 \\dots w_n) = P(w_1\\dots w_n)^{-\\frac{1}{n}}.$$\n",
    "\n",
    "Here we can again approximate $P(w_1 \\dots w_n)$ with N-gram probabilities, as above.\n",
    "Note: $(x_1\\cdots x_n)^{-\\frac{1}{n}}$ is the **geometric mean** of the numbers $x_1,\\dots,x_n$. It is like the (regular) artithmetic mean, but with **products** instead of **sums**. The geometric mean is a more natural choice in the case of *PP* because behind $P(w_1\\dots w_n)$ is a series of $n$ products ([more here](https://en.wikipedia.org/wiki/Geometric_mean)).\n",
    "\n",
    "\n",
    "\n",
    "Compute the perplexity of the training sentences from excercise 2.1. What big difference between the **probabilities** of the sentences and the **perplexities** of the sentences do you notice?"
   ]
  },
  {
   "cell_type": "code",
   "execution_count": 243,
   "metadata": {
    "collapsed": false
   },
   "outputs": [
    {
     "ename": "ValueError",
     "evalue": "math domain error",
     "output_type": "error",
     "traceback": [
      "\u001b[0;31m---------------------------------------------------------------------------\u001b[0m",
      "\u001b[0;31mValueError\u001b[0m                                Traceback (most recent call last)",
      "\u001b[0;32m<ipython-input-243-917baae48929>\u001b[0m in \u001b[0;36m<module>\u001b[0;34m()\u001b[0m\n\u001b[1;32m      7\u001b[0m \u001b[1;31m# print('the perplexity of: '+str(sentence1)+'\\n is:'+str(perplexity(sentence1, bigram,2)) )\u001b[0m\u001b[1;33m\u001b[0m\u001b[1;33m\u001b[0m\u001b[0m\n\u001b[1;32m      8\u001b[0m \u001b[1;31m# Error komt omdat de probability nog 0 is bij die bigram probability calculation\u001b[0m\u001b[1;33m\u001b[0m\u001b[1;33m\u001b[0m\u001b[0m\n\u001b[0;32m----> 9\u001b[0;31m \u001b[0mprint\u001b[0m\u001b[1;33m(\u001b[0m\u001b[0mperplexity\u001b[0m\u001b[1;33m(\u001b[0m\u001b[0msentence1\u001b[0m\u001b[1;33m,\u001b[0m \u001b[0mbigram\u001b[0m\u001b[1;33m,\u001b[0m\u001b[1;36m2\u001b[0m\u001b[1;33m)\u001b[0m\u001b[1;33m)\u001b[0m\u001b[1;33m\u001b[0m\u001b[0m\n\u001b[0m",
      "\u001b[0;32m<ipython-input-243-917baae48929>\u001b[0m in \u001b[0;36mperplexity\u001b[0;34m(sentence, model, N)\u001b[0m\n\u001b[1;32m      2\u001b[0m \u001b[1;33m\u001b[0m\u001b[0m\n\u001b[1;32m      3\u001b[0m \u001b[1;32mdef\u001b[0m \u001b[0mperplexity\u001b[0m\u001b[1;33m(\u001b[0m\u001b[0msentence\u001b[0m\u001b[1;33m,\u001b[0m \u001b[0mmodel\u001b[0m\u001b[1;33m,\u001b[0m \u001b[0mN\u001b[0m\u001b[1;33m)\u001b[0m\u001b[1;33m:\u001b[0m\u001b[1;33m\u001b[0m\u001b[0m\n\u001b[0;32m----> 4\u001b[0;31m     \u001b[0mperp\u001b[0m \u001b[1;33m=\u001b[0m \u001b[0mmath\u001b[0m\u001b[1;33m.\u001b[0m\u001b[0mpow\u001b[0m\u001b[1;33m(\u001b[0m\u001b[0mestimate_probability\u001b[0m\u001b[1;33m(\u001b[0m\u001b[0msentence\u001b[0m\u001b[1;33m,\u001b[0m \u001b[0mmodel\u001b[0m\u001b[1;33m,\u001b[0m \u001b[0mN\u001b[0m\u001b[1;33m)\u001b[0m\u001b[1;33m,\u001b[0m \u001b[1;33m(\u001b[0m\u001b[1;33m-\u001b[0m\u001b[1;36m1\u001b[0m\u001b[1;33m/\u001b[0m\u001b[0mlen\u001b[0m\u001b[1;33m(\u001b[0m\u001b[0msentence\u001b[0m\u001b[1;33m)\u001b[0m\u001b[1;33m)\u001b[0m\u001b[1;33m)\u001b[0m\u001b[1;33m\u001b[0m\u001b[0m\n\u001b[0m\u001b[1;32m      5\u001b[0m     \u001b[1;32mreturn\u001b[0m \u001b[0mperp\u001b[0m\u001b[1;33m\u001b[0m\u001b[0m\n\u001b[1;32m      6\u001b[0m \u001b[1;33m\u001b[0m\u001b[0m\n",
      "\u001b[0;31mValueError\u001b[0m: math domain error"
     ]
    }
   ],
   "source": [
    "import math\n",
    "\n",
    "def perplexity(sentence, model, N):\n",
    "    perp = math.pow(estimate_probability(sentence, model, N), (-1/len(sentence)))\n",
    "    return perp\n",
    "\n",
    "# print('the perplexity of: '+str(sentence1)+'\\n is:'+str(perplexity(sentence1, bigram,2)) )\n",
    "# Error komt omdat de probability nog 0 is bij die bigram probability calculation\n",
    "print(perplexity(sentence1, bigram,2))"
   ]
  },
  {
   "cell_type": "markdown",
   "metadata": {},
   "source": [
    "YOUR ANSWER HERE"
   ]
  },
  {
   "cell_type": "markdown",
   "metadata": {},
   "source": [
    "# That's it!\n",
    "\n",
    "Congratulations, you have made it to the end of the tutorial. Here we will recap the gist of this notebook. \n",
    "\n",
    "**Make sure all your cells can be executed and all your answers are there. Then, read on if you're interested!**\n",
    "\n",
    "-----\n",
    "\n",
    "By now you should have a solid feeling for the problem of **sparsity in language data**; there's just never enough data. For the task of language modelling, we saw that sparsity is a serious challenge. \n",
    "\n",
    "It would be great to be able to model $p(w_n|w_1 \\dots w_{n-1})$ for unlimited $n$: the larger $n$ the better our language model should become at capturing the long-range dependencies between words that characterize actual human sentences, and the more probability our model will asign to such sentences as opposed to sentences that are word-soup. But in the N-gram approach, increasing $n$ will quickly kill all generalizing abilities of the model: the model will start to asign probabilities only to sentences it has seen in the training data.\n",
    "\n",
    "So, where to go from here? Here are three directions that we could head in.\n",
    "\n",
    "### Smoothing\n",
    "\n",
    "We have seen one example of smoothing in this lab: add-k smoothing. This is an easy method, both conceptually and implementation-wise. But the results are not great, and the effects it has on the distributions can be extreme.\n",
    "\n",
    "A much more sophisticated method of smoothing is so-called **Kneser-Ney smoothing**. The method is described in detail in section 4.5 of J&M (3rd edition). This is one of the best performing N-gram smoothing methods, and up to a few years ago a popular implementation of it called [KenLM](https://kheafield.com/code/kenlm/) gave state of the art results.\n",
    "\n",
    "### From words to characters\n",
    "\n",
    "In this lab we have considered language modeling as the task of predicting a **word** $w_n$ based on a history of **words** $w_1\\cdots w_n$. What if instead we let our basic units of modelling be **characters**? The task then becomes to model $p(c_k\\mid c_{k-N-1}\\dots c_{k-1})$ where each $c_i$ is now an ASCII character instead of an entire word.\n",
    "\n",
    "Suddenly sparsity of data is no longer a problem! The set of characters to use is tiny (< 100) compared to even a small-sized vocabulary as today. Have a look at this very illustrative notebook written by Yoav Golberg to see such a method in action: [The unreasonable effectiveness of Character-level Language Models](http://nbviewer.jupyter.org/gist/yoavg/d76121dfde2618422139).\n",
    "\n",
    "(So what is the downside?)\n",
    "\n",
    "\n",
    "### Neural language models\n",
    "\n",
    "The above notebook was actually written as a response to this blog post by Andrej Karpathy: [The Unreasonable Effectiveness of Recurrent Neural Networks](http://karpathy.github.io/2015/05/21/rnn-effectiveness/). Go ahead and read it if you haven't already: it is a superb introduction to the topic of Recurrent Neural Networks.\n",
    "\n",
    "Neural language models solve the problem of data sparsity in a different manner. Instead of estimating the probabilities $p(w_k\\mid w_{k-N-1}\\dots w_{k-1})$ by counting occurences in the data, they use a neural network $f_{\\theta}$ parametrized by parameters $\\theta$ to predict this probability. The parameters $\\theta$ are learned through optimization. \n",
    "\n",
    "The simplest approach goes like this: each word in the history $w_{k-N-1}\\dots w_{k-1}$ is embedded separately giving  vectors $e_{k-N-1}\\dots e_{k-1}$ and then concatenated into one long vectors $[e_{k-N-1};\\dots ;e_{k-1}]$. The network then uses this history vector to predict a probability distribution over words $w$ in the vocabulary $V$:\n",
    "\n",
    "$$p(w \\mid w_{k-N-1}\\dots w_{k-1}) = f_{\\theta}([e_{k-N-1};\\dots;e_{k-1}]).$$\n",
    "\n",
    "(In order to produce legitimate probabilities the final layer of such a network will be for example a $softmax$.)\n",
    "\n",
    "This provides a solution to the sparsity problem by having the network let the individual embeddings of the words in the history interact through its non-linear transforamtion. We are letting the network figure out the smoothing itself!\n",
    "\n",
    "RNNs are a clever extension of this idea, where a hidden state vector $h$ is re-used and updated at each step $k$ in order to store the information of the entire history up to step $k-1$. That is, an RNN actually does away with the N-order approximation; it tries to model the full conditional directly! That means that\n",
    "\n",
    "$$p(w \\mid w_1\\dots w_{k-1}) \\approx RNN_{\\theta}([e_{k-1};h_{k-1}])$$\n",
    "\n",
    "where the hidden state $h_{k-1}$ is a compression of the *entire history* $w_1\\dots w_{k-1}$.\n",
    "\n",
    "Another great place to learn about RNNs, their problems, and solutions to those, is on the blog of [Christopher Olah](http://colah.github.io/posts/2015-08-Understanding-LSTMs/). The project on language modelling will involve learning more about these methods. \n",
    "\n",
    "-----------\n",
    "(And now, it's time to read the classic essay by Eugene Wigner that gave both of the posts their title: [The Unreasonable Effectiveness of Mathematics in the Natural Sciences](http://www.dartmouth.edu/~matc/MathDrama/reading/Wigner.html))"
   ]
  }
 ],
 "metadata": {
  "anaconda-cloud": {},
  "kernelspec": {
   "display_name": "Python 3",
   "language": "python",
   "name": "python3"
  },
  "language_info": {
   "codemirror_mode": {
    "name": "ipython",
    "version": 3
   },
   "file_extension": ".py",
   "mimetype": "text/x-python",
   "name": "python",
   "nbconvert_exporter": "python",
   "pygments_lexer": "ipython3",
   "version": "3.6.0"
  }
 },
 "nbformat": 4,
 "nbformat_minor": 1
}
